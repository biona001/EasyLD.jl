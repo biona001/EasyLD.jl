{
 "cells": [
  {
   "cell_type": "markdown",
   "metadata": {},
   "source": [
    "# gnomAD data\n",
    "\n",
    "+ Link: https://gnomad.broadinstitute.org/downloads#v2-linkage-disequilibrium\n",
    "+ `nfe` population totals ~555GB"
   ]
  },
  {
   "cell_type": "code",
   "execution_count": 1,
   "metadata": {
    "collapsed": false
   },
   "outputs": [],
   "source": [
    "using Revise\n",
    "using EasyLD\n",
    "using CSV\n",
    "using DataFrames\n",
    "using Statistics\n",
    "using LinearAlgebra"
   ]
  },
  {
   "cell_type": "markdown",
   "metadata": {},
   "source": [
    "## Downloading \n",
    "First check how many files there are:"
   ]
  },
  {
   "cell_type": "code",
   "execution_count": 3,
   "metadata": {
    "collapsed": false
   },
   "outputs": [
    {
     "data": {
      "text/plain": [
       "10023-element Vector{String}:\n",
       " \"part-00000-14-0-0-7e282c91-9060-db76-1d4a-a02877b62910\"\n",
       " \"part-00001-14-1-0-2bb43364-b9d9-7048-c4e0-74c951357d81\"\n",
       " \"part-00002-14-2-0-998bf016-ab2f-aaf9-ce80-7888e4ee7524\"\n",
       " \"part-00003-14-3-0-5ad64a0b-ecb1-cf91-69ab-e3ee2fcdef51\"\n",
       " \"part-00004-14-4-0-7a03381b-dc38-5f21-f8dd-ad869dd1f340\"\n",
       " \"part-00005-14-5-0-d78f2159-d71c-adc2-47eb-5af6a6c34015\"\n",
       " \"part-00006-14-6-0-dc8b5638-9246-15b8-579e-d14ff6a69646\"\n",
       " \"part-00007-14-7-0-f41e5872-2ed6-36d2-e625-bb6d6261c6bc\"\n",
       " \"part-00008-14-8-0-27a9b5b4-b329-d7a8-9d86-f3184776cb09\"\n",
       " \"part-00009-14-9-0-68655a89-424f-0cb7-b35c-583b52c859e3\"\n",
       " \"part-00010-14-10-0-a60938ee-75ec-91c9-91f3-fbcffa73a20e\"\n",
       " \"part-00011-14-11-0-3be840ef-ae93-3775-47fe-fc33eedb9911\"\n",
       " \"part-00012-14-12-0-8cbce5b3-023a-b252-52c2-cc9c717d0ec5\"\n",
       " ⋮\n",
       " \"part-10011-14-10011-0-1ed25fc8-64a3-7084-60be-717f4c447fac\"\n",
       " \"part-10012-14-10012-0-342cfc1b-d185-4c2d-ad6e-d9595c5b9071\"\n",
       " \"part-10013-14-10013-0-004a90a8-ec7c-0664-d592-47686c3df576\"\n",
       " \"part-10014-14-10014-0-fdad432a-59ea-ef55-aa6c-dfebf128272c\"\n",
       " \"part-10015-14-10015-0-5216889b-97ba-8e71-8d77-27c2e41a7a38\"\n",
       " \"part-10016-14-10016-0-955e1d70-ef0f-5dc7-cf3f-55c2d7626c53\"\n",
       " \"part-10017-14-10017-0-14ea97f3-00af-93ba-ffa7-f6a0ff9c6541\"\n",
       " \"part-10018-14-10018-0-2cc71e56-18a8-de9e-85c8-1513ec63cceb\"\n",
       " \"part-10019-14-10019-0-16de6180-8034-d811-4875-a91b2da0dad8\"\n",
       " \"part-10020-14-10020-0-1a65d50c-ffe5-2f10-c510-60e0cfa5b186\"\n",
       " \"part-10021-14-10021-0-fc83fd8d-e05e-6955-fc58-bcf4296985ba\"\n",
       " \"part-10022-14-10022-0-216231b4-e554-eac9-d165-ffa8a90fef05\""
      ]
     },
     "execution_count": 3,
     "metadata": {},
     "output_type": "execute_result"
    }
   ],
   "source": [
    "get_gnomad_filenames(\"nfe\", join=false)"
   ]
  },
  {
   "cell_type": "code",
   "execution_count": 2,
   "metadata": {
    "collapsed": false
   },
   "outputs": [
    {
     "name": "stderr",
     "output_type": "stream",
     "text": [
      "\u001b[32mProgress: 100%|█████████████████████████████████████████| Time: 0:00:29\u001b[39m\n"
     ]
    }
   ],
   "source": [
    "population = \"nfe\"\n",
    "outdir = \"/Users/biona001/.julia/dev/EasyLD/data\"\n",
    "download_gnomad_LD_matrices(population, outdir, start_from=1, num_files=10)"
   ]
  },
  {
   "cell_type": "markdown",
   "metadata": {},
   "source": [
    "+ The result would be saved into outdir directory with name `gnomad.genomes.r2.1.1.nfe.common.adj.ld.bm` which itself is a directory.\n",
    "\n",
    "+ For multithreaded downloads, one can use `start_from` and `num_files` keywords to control how many matrices to download (not specifying will download all matrices). A progress meter is automatically displayed.\n",
    "\n",
    "One also needs the variant index files which tells us chr/pos/ref/alt/SNP-name/alt-allele-frequency"
   ]
  },
  {
   "cell_type": "code",
   "execution_count": null,
   "metadata": {
    "collapsed": true
   },
   "outputs": [],
   "source": [
    "population = \"nfe\"\n",
    "outdir = \"/Users/biona001/.julia/dev/EasyLD/data\"\n",
    "@time download_gnomad_variant_index_tables(population, outdir)"
   ]
  },
  {
   "cell_type": "markdown",
   "metadata": {},
   "source": [
    "The result will be stored as `gnomad.genomes.r2.1.1.$population.common.adj.ld.variant_indices.ht` in `outdir`"
   ]
  },
  {
   "cell_type": "markdown",
   "metadata": {},
   "source": [
    "## Reading LD panel with Matrix interface\n",
    "\n",
    "The first time `hail_block_matrix` gets called, we do some pre-processing to the variant index files so subsequent calls will be faster. "
   ]
  },
  {
   "cell_type": "code",
   "execution_count": 2,
   "metadata": {
    "collapsed": false
   },
   "outputs": [
    {
     "name": "stdout",
     "output_type": "stream",
     "text": [
      " 33.650270 seconds (477.52 M allocations: 10.556 GiB, 12.67% gc time, 18.13% compilation time)\n"
     ]
    }
   ],
   "source": [
    "bm_file = \"/Users/biona001/.julia/dev/EasyLD/data/gnomad.genomes.r2.1.1.nfe.common.adj.ld.bm\"\n",
    "ht_file = \"/Users/biona001/.julia/dev/EasyLD/data/gnomad.genomes.r2.1.1.nfe.common.adj.ld.variant_indices.ht\"\n",
    "@time bm = hail_block_matrix(bm_file, ht_file); # the ';' avoids displaying a few entries of bm, which takes ~0.1 seconds per entry"
   ]
  },
  {
   "cell_type": "markdown",
   "metadata": {},
   "source": [
    "Check size of matrix"
   ]
  },
  {
   "cell_type": "code",
   "execution_count": 6,
   "metadata": {
    "collapsed": false
   },
   "outputs": [
    {
     "data": {
      "text/plain": [
       "(14207204, 14207204)"
      ]
     },
     "execution_count": 6,
     "metadata": {},
     "output_type": "execute_result"
    }
   ],
   "source": [
    "size(bm)"
   ]
  },
  {
   "cell_type": "markdown",
   "metadata": {},
   "source": [
    "Read first 10000 by 10000 block into memory"
   ]
  },
  {
   "cell_type": "code",
   "execution_count": 5,
   "metadata": {
    "collapsed": false
   },
   "outputs": [
    {
     "name": "stderr",
     "output_type": "stream",
     "text": [
      "\r",
      "[Stage 0:>                                                          (0 + 6) / 6]\r",
      "\r",
      "[Stage 0:=========>                                                 (1 + 5) / 6]\r",
      "\r",
      "[Stage 0:===================>                                       (2 + 4) / 6]\r",
      "\r",
      "[Stage 0:=============================>                             (3 + 3) / 6]\r",
      "\r",
      "[Stage 0:=======================================>                   (4 + 2) / 6]\r",
      "\r",
      "[Stage 0:=================================================>         (5 + 1) / 6]\r"
     ]
    },
    {
     "data": {
      "text/plain": [
       "10000×10000 Matrix{Float64}:\n",
       " 1.0  0.0326361  -0.0181891   …   0.0         0.0         0.0\n",
       " 0.0  1.0        -0.00041394      0.0         0.0         0.0\n",
       " 0.0  0.0         1.0             0.0         0.0         0.0\n",
       " 0.0  0.0         0.0             0.0         0.0         0.0\n",
       " 0.0  0.0         0.0             0.0         0.0         0.0\n",
       " 0.0  0.0         0.0         …   0.0         0.0         0.0\n",
       " 0.0  0.0         0.0             0.0         0.0         0.0\n",
       " 0.0  0.0         0.0             0.0         0.0         0.0\n",
       " 0.0  0.0         0.0             0.0         0.0         0.0\n",
       " 0.0  0.0         0.0             0.0         0.0         0.0\n",
       " 0.0  0.0         0.0         …   0.0         0.0         0.0\n",
       " 0.0  0.0         0.0             0.0         0.0         0.0\n",
       " 0.0  0.0         0.0             0.0         0.0         0.0\n",
       " ⋮                            ⋱                          \n",
       " 0.0  0.0         0.0             0.368793    0.36933    -0.0120351\n",
       " 0.0  0.0         0.0             0.789835    0.10943     0.0197234\n",
       " 0.0  0.0         0.0         …  -0.167317    0.206943    0.0121849\n",
       " 0.0  0.0         0.0            -0.146398    0.193441   -0.0275316\n",
       " 0.0  0.0         0.0            -0.0631539   0.0803796   0.0113878\n",
       " 0.0  0.0         0.0            -0.0397994   0.0521778  -0.00356272\n",
       " 0.0  0.0         0.0            -0.0309998   0.0109042  -0.00833901\n",
       " 0.0  0.0         0.0         …  -0.112318   -0.285862   -0.0291041\n",
       " 0.0  0.0         0.0            -0.152088    0.362752   -0.0176148\n",
       " 0.0  0.0         0.0             1.0         0.22565     0.0399238\n",
       " 0.0  0.0         0.0             0.0         1.0        -0.0670657\n",
       " 0.0  0.0         0.0             0.0         0.0         1.0"
      ]
     },
     "execution_count": 5,
     "metadata": {},
     "output_type": "execute_result"
    }
   ],
   "source": [
    "Sigma = bm[1:10000, 1:10000]"
   ]
  },
  {
   "cell_type": "markdown",
   "metadata": {},
   "source": [
    "Check if the given block is PSD by computing its eigenvalues"
   ]
  },
  {
   "cell_type": "code",
   "execution_count": 6,
   "metadata": {
    "collapsed": false
   },
   "outputs": [
    {
     "data": {
      "text/plain": [
       "10000-element Vector{Float64}:\n",
       "  -2.5798836838860755\n",
       "  -1.415006812481892\n",
       "  -0.7674440501660297\n",
       "  -0.6247787622218666\n",
       "  -0.584928280772804\n",
       "  -0.5435038109298787\n",
       "  -0.5187701863140765\n",
       "  -0.43166908059139875\n",
       "  -0.41532154277852423\n",
       "  -0.38813217585569226\n",
       "  -0.3700017799653646\n",
       "  -0.35667047980202393\n",
       "  -0.3485121536359235\n",
       "   ⋮\n",
       " 109.56227091251577\n",
       " 113.33023962897241\n",
       " 127.38408283290424\n",
       " 130.99148352578467\n",
       " 132.82965433833886\n",
       " 145.9473736360883\n",
       " 155.27371456569082\n",
       " 177.7213297373829\n",
       " 194.1048422669041\n",
       " 231.15057521884452\n",
       " 293.44132970720796\n",
       " 317.6410079580756"
      ]
     },
     "execution_count": 6,
     "metadata": {},
     "output_type": "execute_result"
    }
   ],
   "source": [
    "eigvals(Symmetric(Sigma)) # Symmetric uses upper triangular portion of data"
   ]
  },
  {
   "cell_type": "markdown",
   "metadata": {},
   "source": [
    "Arbitrary slicing works but is very slow"
   ]
  },
  {
   "cell_type": "code",
   "execution_count": 4,
   "metadata": {
    "collapsed": false
   },
   "outputs": [
    {
     "name": "stdout",
     "output_type": "stream",
     "text": [
      " 30.278933 seconds (759 allocations: 13.219 KiB)\n"
     ]
    },
    {
     "data": {
      "text/plain": [
       "3×50 Matrix{Float64}:\n",
       " 1.0  -0.0181891   0.00802797  -0.0421512  …  0.0143534     0.0172358\n",
       " 0.0  -0.00041394  0.00232164  -0.0112066     5.39059e-5   -0.0188801\n",
       " 0.0   1.0         0.0         -0.0282011     0.000733417  -0.0277042"
      ]
     },
     "execution_count": 4,
     "metadata": {},
     "output_type": "execute_result"
    }
   ],
   "source": [
    "@time bm[1:3, 1:2:100] # read columns 1, 3, 5, ..."
   ]
  },
  {
   "cell_type": "markdown",
   "metadata": {},
   "source": [
    "## Read in a block with `get_block`\n",
    "\n",
    "One can also extract a block by specifying the chromosome and starting/ending basepair"
   ]
  },
  {
   "cell_type": "code",
   "execution_count": 5,
   "metadata": {
    "collapsed": false
   },
   "outputs": [
    {
     "data": {
      "text/plain": [
       "8×8 Matrix{Float64}:\n",
       " 1.0  0.0135236  -0.0249515  -0.0617588  …  -0.00321314  -0.00718484\n",
       " 0.0  1.0         0.0167518   0.0209895      0.00877351   0.012266\n",
       " 0.0  0.0         1.0        -0.0125702     -0.0074448   -0.0373812\n",
       " 0.0  0.0         0.0         1.0            0.0120626   -0.0486212\n",
       " 0.0  0.0         0.0         0.0           -0.0186309   -0.0454317\n",
       " 0.0  0.0         0.0         0.0        …   0.900573     0.00806292\n",
       " 0.0  0.0         0.0         0.0            1.0          0.00246611\n",
       " 0.0  0.0         0.0         0.0            0.0          1.0"
      ]
     },
     "execution_count": 5,
     "metadata": {},
     "output_type": "execute_result"
    }
   ],
   "source": [
    "chr = 1\n",
    "start_pos = 57292\n",
    "end_pos = 59193\n",
    "sigma, df = get_block(bm, chr, start_pos, end_pos; min_maf=0.0)\n",
    "sigma"
   ]
  },
  {
   "cell_type": "code",
   "execution_count": 7,
   "metadata": {
    "collapsed": false
   },
   "outputs": [
    {
     "name": "stdout",
     "output_type": "stream",
     "text": [
      "df = 8×5 DataFrame\n",
      " Row │ AF         chr      pos    ref     alt\n",
      "     │ Float64    String3  Int64  String  String\n",
      "─────┼───────────────────────────────────────────\n",
      "   1 │ 0.0259568  1        57292  C       T\n",
      "   2 │ 0.992971   1        57952  A       C\n",
      "   3 │ 0.0586652  1        58176  G       A\n",
      "   4 │ 0.36321    1        58866  C       G\n",
      "   5 │ 0.0921872  1        59040  T       C\n",
      "   6 │ 0.010808   1        59108  G       A\n",
      "   7 │ 0.0112479  1        59121  G       T\n",
      "   8 │ 0.0370268  1        59193  T       G\n"
     ]
    }
   ],
   "source": [
    "# SNP information of this block\n",
    "@show df;"
   ]
  },
  {
   "cell_type": "markdown",
   "metadata": {},
   "source": [
    "When importing blocks, one can filter for minimum minor allele frequency"
   ]
  },
  {
   "cell_type": "code",
   "execution_count": 8,
   "metadata": {
    "collapsed": false
   },
   "outputs": [
    {
     "data": {
      "text/plain": [
       "3×3 Matrix{Float64}:\n",
       " 1.0  -0.0125702  -0.0323548\n",
       " 0.0   1.0        -0.0178985\n",
       " 0.0   0.0         1.0"
      ]
     },
     "execution_count": 8,
     "metadata": {},
     "output_type": "execute_result"
    }
   ],
   "source": [
    "# keep SNPs with MAF > 0.05\n",
    "chr = 1\n",
    "start_pos = 57292\n",
    "end_pos = 59193\n",
    "sigma, df = get_block(bm, chr, start_pos, end_pos; min_maf=0.05)\n",
    "sigma"
   ]
  },
  {
   "cell_type": "code",
   "execution_count": 9,
   "metadata": {
    "collapsed": false
   },
   "outputs": [
    {
     "name": "stdout",
     "output_type": "stream",
     "text": [
      "df = 3×5 DataFrame\n",
      " Row │ AF         chr      pos    ref     alt\n",
      "     │ Float64    String3  Int64  String  String\n",
      "─────┼───────────────────────────────────────────\n",
      "   1 │ 0.0586652  1        58176  G       A\n",
      "   2 │ 0.36321    1        58866  C       G\n",
      "   3 │ 0.0921872  1        59040  T       C\n"
     ]
    }
   ],
   "source": [
    "@show df;"
   ]
  },
  {
   "cell_type": "markdown",
   "metadata": {},
   "source": [
    "One can also provide a list of SNP positions, and we will only keep SNPs that have those position which also pass the `min_maf` filter"
   ]
  },
  {
   "cell_type": "code",
   "execution_count": 10,
   "metadata": {
    "collapsed": false
   },
   "outputs": [
    {
     "data": {
      "text/plain": [
       "2×2 Matrix{Float64}:\n",
       " 1.0  -0.0125702\n",
       " 0.0   1.0"
      ]
     },
     "execution_count": 10,
     "metadata": {},
     "output_type": "execute_result"
    }
   ],
   "source": [
    "# keep SNPs with MAF > 0.05 and only include a list of SNPs with known positions\n",
    "chr = 1\n",
    "start_pos = 57292\n",
    "end_pos = 59193\n",
    "snps_to_keep = [58176, 58866]\n",
    "sigma, df = get_block(bm, chr, start_pos, end_pos; min_maf=0.05, snps_to_keep=snps_to_keep)\n",
    "sigma"
   ]
  },
  {
   "cell_type": "code",
   "execution_count": 11,
   "metadata": {
    "collapsed": false
   },
   "outputs": [
    {
     "name": "stdout",
     "output_type": "stream",
     "text": [
      "df = 2×5 DataFrame\n",
      " Row │ AF         chr      pos    ref     alt\n",
      "     │ Float64    String3  Int64  String  String\n",
      "─────┼───────────────────────────────────────────\n",
      "   1 │ 0.0586652  1        58176  G       A\n",
      "   2 │ 0.36321    1        58866  C       G\n"
     ]
    }
   ],
   "source": [
    "@show df;"
   ]
  },
  {
   "cell_type": "markdown",
   "metadata": {},
   "source": [
    "## SNP information\n",
    "\n",
    "The `HailBlockMatrix` struct contains the SNP information for each row/column of the LD matrix. "
   ]
  },
  {
   "cell_type": "code",
   "execution_count": 6,
   "metadata": {
    "collapsed": false
   },
   "outputs": [
    {
     "name": "stdout",
     "output_type": "stream",
     "text": [
      "bm.info[1:10, :] = 10×5 DataFrame\n",
      " Row │ AF          chr      pos    ref     alt\n",
      "     │ Float64     String3  Int64  String  String\n",
      "─────┼────────────────────────────────────────────\n",
      "   1 │ 0.409221    1        10146  AC      A\n",
      "   2 │ 0.00810811  1        10151  TA      T\n",
      "   3 │ 0.144444    1        10177  A       C\n",
      "   4 │ 0.0232558   1        10178  CCTAA   C\n",
      "   5 │ 0.00617284  1        10181  A       T\n",
      "   6 │ 0.0326087   1        10250  A       C\n",
      "   7 │ 0.0595238   1        10257  A       C\n",
      "   8 │ 0.198276    1        10327  T       C\n",
      "   9 │ 0.05        1        10329  AC      A\n",
      "  10 │ 0.00720461  1        10333  CT      C\n"
     ]
    }
   ],
   "source": [
    "@show bm.info[1:10, :]; # print first 10 columns"
   ]
  },
  {
   "cell_type": "markdown",
   "metadata": {},
   "source": [
    "Alternatively, one can import this dataframe directly with the following syntax"
   ]
  },
  {
   "cell_type": "code",
   "execution_count": null,
   "metadata": {
    "collapsed": true
   },
   "outputs": [],
   "source": [
    "df = read_variant_index_tables(ht_file)"
   ]
  }
 ],
 "metadata": {
  "@webio": {
   "lastCommId": null,
   "lastKernelId": null
  },
  "kernelspec": {
   "display_name": "Julia 1.7.3",
   "language": "julia",
   "name": "julia-1.7"
  },
  "language_info": {
   "file_extension": ".jl",
   "mimetype": "application/julia",
   "name": "julia",
   "version": "1.7.3"
  }
 },
 "nbformat": 4,
 "nbformat_minor": 2
}
