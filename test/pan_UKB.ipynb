{
 "cells": [
  {
   "cell_type": "markdown",
   "metadata": {},
   "source": [
    "# Try downloading UKB data\n",
    "\n",
    "+ Link: https://pan-dev.ukbb.broadinstitute.org/docs/hail-format/index.html#extracting-a-subset-of-ld-matrix\n",
    "+ European samples are the largest, totaling 14.1T of data\n",
    "+ Tested on Sherlock with julia/1.6.2, java/11.0.11, python/3.9.0"
   ]
  },
  {
   "cell_type": "code",
   "execution_count": 25,
   "metadata": {
    "collapsed": false
   },
   "outputs": [],
   "source": [
    "using Revise\n",
    "using EasyLD\n",
    "using CSV\n",
    "using DataFrames\n",
    "using Statistics\n",
    "using LinearAlgebra\n",
    "using Plots\n",
    "gr(fmt=:png);"
   ]
  },
  {
   "cell_type": "markdown",
   "metadata": {},
   "source": [
    "First check how many files there are:"
   ]
  },
  {
   "cell_type": "code",
   "execution_count": 10,
   "metadata": {
    "collapsed": false
   },
   "outputs": [
    {
     "data": {
      "text/plain": [
       "124281-element Vector{String}:\n",
       " \"part-000000-44-0-0-22f828c8-17c3-7c3c-1fa1-1fc113144aca\"\n",
       " \"part-000001-44-1-0-d35bc353-c9b7-28e7-315b-f1bcd8d9e50b\"\n",
       " \"part-000002-44-2-2-7dc4e8fd-75f7-26d0-4b9c-65628f25cf34\"\n",
       " \"part-000003-44-3-0-74be7ee3-ba85-f9ce-4add-9638cf387f8a\"\n",
       " \"part-000004-44-4-0-b11cbd6a-50e2-4e5e-ae70-932ff3aebd5f\"\n",
       " \"part-000005-44-5-0-104f3537-b7e4-0959-555b-7e65ca2b00ae\"\n",
       " \"part-000006-44-6-0-f99bebaa-7361-9c3e-65a0-2700858c2b28\"\n",
       " \"part-000007-44-7-0-90293a19-7ae6-f6a6-1141-48f62ee6f8b1\"\n",
       " \"part-000008-44-8-0-847d7052-f784-0c5f-c4f8-d16df8745a23\"\n",
       " \"part-000009-44-9-0-2b61d351-aeda-4c03-52aa-cb380599219d\"\n",
       " \"part-000010-44-10-0-90b9d808-fa98-2727-ca3e-d63676464185\"\n",
       " \"part-000011-44-11-0-7a15dbc9-b5c7-3500-8258-886bbf569e35\"\n",
       " \"part-000012-44-12-0-73b49602-7c17-3f3b-860c-6aaa8b25f36b\"\n",
       " ⋮\n",
       " \"part-124226-44-124226-0-9948291d-f1c5-775a-4ed3-7d75c9e7d007\"\n",
       " \"part-124227-44-124227-0-43ffd695-b0c7-577e-0d5a-8ea5f3ed84d0\"\n",
       " \"part-124228-44-124228-0-d22a4e30-04f2-82aa-dfd2-4d3ae95e57b4\"\n",
       " \"part-124229-44-124229-0-12730aef-d105-61a3-5342-f20ed3bf3645\"\n",
       " \"part-124230-44-124230-0-984e649b-fc68-5397-3b47-52b76e87c2c6\"\n",
       " \"part-124231-44-124231-0-9fd5803f-f5c7-1c4c-a5fa-77b76dc1f52d\"\n",
       " \"part-124232-44-124232-0-b891bf57-4536-661b-d679-10aac2532957\"\n",
       " \"part-124233-44-124233-0-1c6f8f3f-9337-fc25-53ef-63e76c5a37cf\"\n",
       " \"part-124234-44-124234-0-ad9c21cc-9c7c-0ccb-9335-921cc35ae152\"\n",
       " \"part-124235-44-124235-0-0f31fad5-1ba4-79b3-dff0-cb17d6b694ed\"\n",
       " \"part-124236-44-124236-0-98383aba-a5c1-8093-c27f-001aae4730d3\"\n",
       " \"part-124237-44-124237-1-36053042-3e3b-0495-e362-d7e756ac8f5a\""
      ]
     },
     "execution_count": 10,
     "metadata": {},
     "output_type": "execute_result"
    }
   ],
   "source": [
    "get_ukb_filenames(\"EUR\", join=false)"
   ]
  },
  {
   "cell_type": "markdown",
   "metadata": {},
   "source": [
    "Try downloading the first 10 files (~1GB)"
   ]
  },
  {
   "cell_type": "code",
   "execution_count": 12,
   "metadata": {
    "collapsed": false
   },
   "outputs": [
    {
     "name": "stderr",
     "output_type": "stream",
     "text": [
      "\u001b[32mProgress: 100%|█████████████████████████████████████████| Time: 0:03:48\u001b[39m\n"
     ]
    }
   ],
   "source": [
    "population = \"EUR\"\n",
    "outdir = \"/Users/biona001/.julia/dev/EasyLD/data\"\n",
    "download_ukb_LD_matrices(population, outdir, start_from=1, num_files=10)"
   ]
  },
  {
   "cell_type": "markdown",
   "metadata": {},
   "source": [
    "Downloading 10 files took 228 seconds, so download all 124k files would take roughly 30 days. Fortunately, the `start_from` and `num_files` keywords allow us to split this into 30 jobs, so we should be able to download everything in 1 day or so."
   ]
  },
  {
   "cell_type": "markdown",
   "metadata": {},
   "source": [
    "# Reading the LD panel"
   ]
  },
  {
   "cell_type": "code",
   "execution_count": 2,
   "metadata": {
    "collapsed": false
   },
   "outputs": [
    {
     "ename": "LoadError",
     "evalue": "UndefVarError: hail not defined",
     "output_type": "error",
     "traceback": [
      "UndefVarError: hail not defined",
      "",
      "Stacktrace:",
      " [1] hail_block_matrix(bm_files::String)",
      "   @ gnomAD ~/.julia/dev/gnomAD/src/hailBM.jl:48",
      " [2] top-level scope",
      "   @ In[2]:2",
      " [3] eval",
      "   @ ./boot.jl:373 [inlined]",
      " [4] include_string(mapexpr::typeof(REPL.softscope), mod::Module, code::String, filename::String)",
      "   @ Base ./loading.jl:1196"
     ]
    }
   ],
   "source": [
    "data = \"/Users/biona001/.julia/dev/EasyLD/data/UKBB.EUR.ldadj.bm\"\n",
    "bm = hail_block_matrix(data);"
   ]
  },
  {
   "cell_type": "markdown",
   "metadata": {},
   "source": [
    "Check size of matrix"
   ]
  },
  {
   "cell_type": "code",
   "execution_count": 3,
   "metadata": {
    "collapsed": false
   },
   "outputs": [
    {
     "name": "stdout",
     "output_type": "stream",
     "text": [
      "2023-03-04 10:39:14.721 WARN  Utils:69 - Your hostname, Benjamins-MacBook-Pro-2.local resolves to a loopback address: 127.0.0.1; using 10.0.0.86 instead (on interface en0)\n",
      "2023-03-04 10:39:14.726 WARN  Utils:69 - Set SPARK_LOCAL_IP if you need to bind to another address\n",
      "2023-03-04 10:39:15.250 WARN  NativeCodeLoader:60 - Unable to load native-hadoop library for your platform... using builtin-java classes where applicable\n"
     ]
    },
    {
     "name": "stderr",
     "output_type": "stream",
     "text": [
      "Initializing Hail with default parameters...\n",
      "Picked up _JAVA_OPTIONS: -Xmx16g\n",
      "Picked up _JAVA_OPTIONS: -Xmx16g\n",
      "Setting default log level to \"WARN\".\n",
      "To adjust logging level use sc.setLogLevel(newLevel). For SparkR, use setLogLevel(newLevel).\n",
      "Running on Apache Spark version 3.1.3\n",
      "SparkUI available at http://10.0.0.86:4040\n",
      "Welcome to\n",
      "     __  __     <>__\n",
      "    / /_/ /__  __/ /\n",
      "   / __  / _ `/ / /\n",
      "  /_/ /_/\\_,_/_/_/   version 0.2.109-b71b065e4bb6\n",
      "LOGGING: writing to /Users/biona001/.julia/dev/gnomAD/test/hail-20230304-1039-0.2.109-b71b065e4bb6.log\n"
     ]
    },
    {
     "data": {
      "text/plain": [
       "(23960350, 23960350)"
      ]
     },
     "execution_count": 3,
     "metadata": {},
     "output_type": "execute_result"
    }
   ],
   "source": [
    "size(bm)"
   ]
  },
  {
   "cell_type": "markdown",
   "metadata": {},
   "source": [
    "Read first 10000 by 10000 block into memory"
   ]
  },
  {
   "cell_type": "code",
   "execution_count": 4,
   "metadata": {
    "collapsed": false,
    "scrolled": true
   },
   "outputs": [
    {
     "name": "stderr",
     "output_type": "stream",
     "text": [
      "\r",
      "[Stage 0:>                                                          (0 + 6) / 6]\r",
      "\r",
      "[Stage 0:=============================>                             (3 + 3) / 6]\r",
      "\r",
      "[Stage 0:=======================================>                   (4 + 2) / 6]\r",
      "\r",
      "[Stage 0:=================================================>         (5 + 1) / 6]\r"
     ]
    },
    {
     "data": {
      "text/plain": [
       "10000×10000 Matrix{Float64}:\n",
       " 0.99996  0.00098559  -0.000830543  …  -0.000520665   0.00422904\n",
       " 0.0      0.999942    -0.00104453      -0.00494589    0.00050959\n",
       " 0.0      0.0          0.999963        -0.00129536    0.00216722\n",
       " 0.0      0.0          0.0             -0.00663755    0.000142521\n",
       " 0.0      0.0          0.0              0.0104731     0.000936687\n",
       " 0.0      0.0          0.0          …  -0.00202249   -0.000497824\n",
       " 0.0      0.0          0.0             -0.00550819    0.00283421\n",
       " 0.0      0.0          0.0             -0.00145102   -0.000761935\n",
       " 0.0      0.0          0.0              0.00287458   -0.0010154\n",
       " 0.0      0.0          0.0             -0.000450895  -0.00130722\n",
       " 0.0      0.0          0.0          …  -0.00101125    0.000451512\n",
       " 0.0      0.0          0.0              0.00590455   -0.00110266\n",
       " 0.0      0.0          0.0             -0.00274252   -0.000817142\n",
       " ⋮                                  ⋱                \n",
       " 0.0      0.0          0.0             -0.109458     -0.00866031\n",
       " 0.0      0.0          0.0              0.0158602     0.0203563\n",
       " 0.0      0.0          0.0          …   0.00745596    0.0184919\n",
       " 0.0      0.0          0.0              0.983906     -0.0122066\n",
       " 0.0      0.0          0.0              0.0155851     0.0197608\n",
       " 0.0      0.0          0.0              0.965104     -0.0159355\n",
       " 0.0      0.0          0.0             -0.129534      0.088277\n",
       " 0.0      0.0          0.0          …   0.622303      0.059004\n",
       " 0.0      0.0          0.0              0.965347     -0.0160028\n",
       " 0.0      0.0          0.0              0.0925609     0.999286\n",
       " 0.0      0.0          0.0              0.999972      0.0926374\n",
       " 0.0      0.0          0.0              0.0           0.999974"
      ]
     },
     "execution_count": 4,
     "metadata": {},
     "output_type": "execute_result"
    }
   ],
   "source": [
    "Sigma = bm[1:10000, 1:10000]"
   ]
  },
  {
   "cell_type": "markdown",
   "metadata": {},
   "source": [
    "Check if the given block is PSD by computing its eigenvalues"
   ]
  },
  {
   "cell_type": "code",
   "execution_count": 5,
   "metadata": {
    "collapsed": false
   },
   "outputs": [
    {
     "data": {
      "text/plain": [
       "10000-element Vector{Float64}:\n",
       "  -4.496303144059796e-15\n",
       "  -1.762987426134658e-15\n",
       "  -1.040030990442209e-15\n",
       "  -4.2089306816541705e-16\n",
       "  -3.960324780237165e-16\n",
       "  -3.9060196040323796e-16\n",
       "  -2.985734642577166e-16\n",
       "  -2.8601497287222336e-16\n",
       "  -2.5553650845256305e-16\n",
       "  -1.998130772222011e-16\n",
       "  -1.8449274904356797e-16\n",
       "  -1.7028015609869147e-16\n",
       "  -1.3192630645503314e-16\n",
       "   ⋮\n",
       " 116.57001725005479\n",
       " 124.37732317876345\n",
       " 125.11477060743002\n",
       " 135.80425399688727\n",
       " 142.93300594996916\n",
       " 149.24000792252738\n",
       " 161.47927858350278\n",
       " 181.82233513932786\n",
       " 228.3300216753156\n",
       " 235.961635959381\n",
       " 280.6540947869515\n",
       " 322.07381500507836"
      ]
     },
     "execution_count": 5,
     "metadata": {},
     "output_type": "execute_result"
    }
   ],
   "source": [
    "eigvals(Symmetric(Sigma)) # Symmetric uses upper triangular portion of data"
   ]
  },
  {
   "cell_type": "markdown",
   "metadata": {},
   "source": [
    "## Download variant index hail table"
   ]
  },
  {
   "cell_type": "code",
   "execution_count": null,
   "metadata": {
    "collapsed": true
   },
   "outputs": [],
   "source": [
    "population = \"EUR\"\n",
    "outdir = \"/Users/biona001/.julia/dev/EasyLD/data\"\n",
    "download_ukb_variant_index_tables(population, outdir)"
   ]
  },
  {
   "cell_type": "markdown",
   "metadata": {},
   "source": [
    "## Read SNP file"
   ]
  },
  {
   "cell_type": "code",
   "execution_count": 3,
   "metadata": {
    "collapsed": false
   },
   "outputs": [
    {
     "data": {
      "text/html": [
       "<div><div style = \"float: left;\"><span>23960350×5 DataFrame</span></div><div style = \"float: right;\"><span style = \"font-style: italic;\">23960325 rows omitted</span></div><div style = \"clear: both;\"></div></div><div class = \"data-frame\" style = \"overflow-x: scroll;\"><table class = \"data-frame\" style = \"margin-bottom: 6px;\"><thead><tr class = \"header\"><th class = \"rowNumber\" style = \"font-weight: bold; text-align: right;\">Row</th><th style = \"text-align: left;\">locus</th><th style = \"text-align: left;\">alleles</th><th style = \"text-align: left;\">rsid</th><th style = \"text-align: left;\">AF</th><th style = \"text-align: left;\">idx</th></tr><tr class = \"subheader headerLastRow\"><th class = \"rowNumber\" style = \"font-weight: bold; text-align: right;\"></th><th title = \"InlineStrings.String15\" style = \"text-align: left;\">String15</th><th title = \"String\" style = \"text-align: left;\">String</th><th title = \"String\" style = \"text-align: left;\">String</th><th title = \"Float64\" style = \"text-align: left;\">Float64</th><th title = \"Int64\" style = \"text-align: left;\">Int64</th></tr></thead><tbody><tr><td class = \"rowNumber\" style = \"font-weight: bold; text-align: right;\">1</td><td style = \"text-align: left;\">1:11063</td><td style = \"text-align: left;\">[&quot;T&quot;,&quot;G&quot;]</td><td style = \"text-align: left;\">rs561109771</td><td style = \"text-align: right;\">4.7982e-5</td><td style = \"text-align: right;\">0</td></tr><tr><td class = \"rowNumber\" style = \"font-weight: bold; text-align: right;\">2</td><td style = \"text-align: left;\">1:13259</td><td style = \"text-align: left;\">[&quot;G&quot;,&quot;A&quot;]</td><td style = \"text-align: left;\">rs562993331</td><td style = \"text-align: right;\">0.00027798</td><td style = \"text-align: right;\">1</td></tr><tr><td class = \"rowNumber\" style = \"font-weight: bold; text-align: right;\">3</td><td style = \"text-align: left;\">1:17641</td><td style = \"text-align: left;\">[&quot;G&quot;,&quot;A&quot;]</td><td style = \"text-align: left;\">rs578081284</td><td style = \"text-align: right;\">0.00083096</td><td style = \"text-align: right;\">2</td></tr><tr><td class = \"rowNumber\" style = \"font-weight: bold; text-align: right;\">4</td><td style = \"text-align: left;\">1:57222</td><td style = \"text-align: left;\">[&quot;T&quot;,&quot;C&quot;]</td><td style = \"text-align: left;\">rs576081345</td><td style = \"text-align: right;\">0.00065859</td><td style = \"text-align: right;\">3</td></tr><tr><td class = \"rowNumber\" style = \"font-weight: bold; text-align: right;\">5</td><td style = \"text-align: left;\">1:58396</td><td style = \"text-align: left;\">[&quot;T&quot;,&quot;C&quot;]</td><td style = \"text-align: left;\">rs570371753</td><td style = \"text-align: right;\">0.00024023</td><td style = \"text-align: right;\">4</td></tr><tr><td class = \"rowNumber\" style = \"font-weight: bold; text-align: right;\">6</td><td style = \"text-align: left;\">1:63668</td><td style = \"text-align: left;\">[&quot;G&quot;,&quot;A&quot;]</td><td style = \"text-align: left;\">rs561430336</td><td style = \"text-align: right;\">2.7728e-5</td><td style = \"text-align: right;\">5</td></tr><tr><td class = \"rowNumber\" style = \"font-weight: bold; text-align: right;\">7</td><td style = \"text-align: left;\">1:69569</td><td style = \"text-align: left;\">[&quot;T&quot;,&quot;C&quot;]</td><td style = \"text-align: left;\">rs2531267</td><td style = \"text-align: right;\">0.00018542</td><td style = \"text-align: right;\">6</td></tr><tr><td class = \"rowNumber\" style = \"font-weight: bold; text-align: right;\">8</td><td style = \"text-align: left;\">1:79192</td><td style = \"text-align: left;\">[&quot;T&quot;,&quot;G&quot;]</td><td style = \"text-align: left;\">rs557418932</td><td style = \"text-align: right;\">8.1599e-5</td><td style = \"text-align: right;\">7</td></tr><tr><td class = \"rowNumber\" style = \"font-weight: bold; text-align: right;\">9</td><td style = \"text-align: left;\">1:91588</td><td style = \"text-align: left;\">[&quot;G&quot;,&quot;A&quot;]</td><td style = \"text-align: left;\">rs554639997</td><td style = \"text-align: right;\">0.00015868</td><td style = \"text-align: right;\">8</td></tr><tr><td class = \"rowNumber\" style = \"font-weight: bold; text-align: right;\">10</td><td style = \"text-align: left;\">1:533573</td><td style = \"text-align: left;\">[&quot;G&quot;,&quot;A&quot;]</td><td style = \"text-align: left;\">rs575442534</td><td style = \"text-align: right;\">0.00066441</td><td style = \"text-align: right;\">9</td></tr><tr><td class = \"rowNumber\" style = \"font-weight: bold; text-align: right;\">11</td><td style = \"text-align: left;\">1:541944</td><td style = \"text-align: left;\">[&quot;T&quot;,&quot;C&quot;]</td><td style = \"text-align: left;\">rs568792105</td><td style = \"text-align: right;\">0.00045009</td><td style = \"text-align: right;\">10</td></tr><tr><td class = \"rowNumber\" style = \"font-weight: bold; text-align: right;\">12</td><td style = \"text-align: left;\">1:542210</td><td style = \"text-align: left;\">[&quot;C&quot;,&quot;T&quot;]</td><td style = \"text-align: left;\">rs554292503</td><td style = \"text-align: right;\">0.00015376</td><td style = \"text-align: right;\">11</td></tr><tr><td class = \"rowNumber\" style = \"font-weight: bold; text-align: right;\">13</td><td style = \"text-align: left;\">1:565148</td><td style = \"text-align: left;\">[&quot;T&quot;,&quot;C&quot;]</td><td style = \"text-align: left;\">rs547117545</td><td style = \"text-align: right;\">0.00013131</td><td style = \"text-align: right;\">12</td></tr><tr><td style = \"text-align: right;\">&vellip;</td><td style = \"text-align: right;\">&vellip;</td><td style = \"text-align: right;\">&vellip;</td><td style = \"text-align: right;\">&vellip;</td><td style = \"text-align: right;\">&vellip;</td><td style = \"text-align: right;\">&vellip;</td></tr><tr><td class = \"rowNumber\" style = \"font-weight: bold; text-align: right;\">23960339</td><td style = \"text-align: left;\">X:154925509</td><td style = \"text-align: left;\">[&quot;C&quot;,&quot;G&quot;]</td><td style = \"text-align: left;\">rs142253543</td><td style = \"text-align: right;\">2.8716e-5</td><td style = \"text-align: right;\">23960338</td></tr><tr><td class = \"rowNumber\" style = \"font-weight: bold; text-align: right;\">23960340</td><td style = \"text-align: left;\">X:154925895</td><td style = \"text-align: left;\">[&quot;C&quot;,&quot;T&quot;]</td><td style = \"text-align: left;\">rs538470</td><td style = \"text-align: right;\">0.24245</td><td style = \"text-align: right;\">23960339</td></tr><tr><td class = \"rowNumber\" style = \"font-weight: bold; text-align: right;\">23960341</td><td style = \"text-align: left;\">X:154926231</td><td style = \"text-align: left;\">[&quot;A&quot;,&quot;G&quot;]</td><td style = \"text-align: left;\">rs778365582</td><td style = \"text-align: right;\">0.00044274</td><td style = \"text-align: right;\">23960340</td></tr><tr><td class = \"rowNumber\" style = \"font-weight: bold; text-align: right;\">23960342</td><td style = \"text-align: left;\">X:154926376</td><td style = \"text-align: left;\">[&quot;C&quot;,&quot;T&quot;]</td><td style = \"text-align: left;\">rs116490668</td><td style = \"text-align: right;\">0.00012049</td><td style = \"text-align: right;\">23960341</td></tr><tr><td class = \"rowNumber\" style = \"font-weight: bold; text-align: right;\">23960343</td><td style = \"text-align: left;\">X:154926667</td><td style = \"text-align: left;\">[&quot;C&quot;,&quot;A&quot;]</td><td style = \"text-align: left;\">rs73562853</td><td style = \"text-align: right;\">2.9462e-5</td><td style = \"text-align: right;\">23960342</td></tr><tr><td class = \"rowNumber\" style = \"font-weight: bold; text-align: right;\">23960344</td><td style = \"text-align: left;\">X:154926795</td><td style = \"text-align: left;\">[&quot;G&quot;,&quot;A&quot;]</td><td style = \"text-align: left;\">rs142669955</td><td style = \"text-align: right;\">2.8269e-5</td><td style = \"text-align: right;\">23960343</td></tr><tr><td class = \"rowNumber\" style = \"font-weight: bold; text-align: right;\">23960345</td><td style = \"text-align: left;\">X:154927581</td><td style = \"text-align: left;\">[&quot;G&quot;,&quot;A&quot;]</td><td style = \"text-align: left;\">rs644138</td><td style = \"text-align: right;\">0.30273</td><td style = \"text-align: right;\">23960344</td></tr><tr><td class = \"rowNumber\" style = \"font-weight: bold; text-align: right;\">23960346</td><td style = \"text-align: left;\">X:154929412</td><td style = \"text-align: left;\">[&quot;C&quot;,&quot;T&quot;]</td><td style = \"text-align: left;\">rs557132</td><td style = \"text-align: right;\">0.24591</td><td style = \"text-align: right;\">23960345</td></tr><tr><td class = \"rowNumber\" style = \"font-weight: bold; text-align: right;\">23960347</td><td style = \"text-align: left;\">X:154929637</td><td style = \"text-align: left;\">[&quot;CT&quot;,&quot;C&quot;]</td><td style = \"text-align: left;\">rs762503228</td><td style = \"text-align: right;\">0.22984</td><td style = \"text-align: right;\">23960346</td></tr><tr><td class = \"rowNumber\" style = \"font-weight: bold; text-align: right;\">23960348</td><td style = \"text-align: left;\">X:154929952</td><td style = \"text-align: left;\">[&quot;CAA&quot;,&quot;C&quot;]</td><td style = \"text-align: left;\">rs775521832</td><td style = \"text-align: right;\">0.23978</td><td style = \"text-align: right;\">23960347</td></tr><tr><td class = \"rowNumber\" style = \"font-weight: bold; text-align: right;\">23960349</td><td style = \"text-align: left;\">X:154930230</td><td style = \"text-align: left;\">[&quot;A&quot;,&quot;G&quot;]</td><td style = \"text-align: left;\">rs781880</td><td style = \"text-align: right;\">0.24633</td><td style = \"text-align: right;\">23960348</td></tr><tr><td class = \"rowNumber\" style = \"font-weight: bold; text-align: right;\">23960350</td><td style = \"text-align: left;\">X:154930487</td><td style = \"text-align: left;\">[&quot;T&quot;,&quot;A&quot;]</td><td style = \"text-align: left;\">rs781879</td><td style = \"text-align: right;\">0.019688</td><td style = \"text-align: right;\">23960349</td></tr></tbody></table></div>"
      ],
      "text/latex": [
       "\\begin{tabular}{r|ccccc}\n",
       "\t& locus & alleles & rsid & AF & idx\\\\\n",
       "\t\\hline\n",
       "\t& String15 & String & String & Float64 & Int64\\\\\n",
       "\t\\hline\n",
       "\t1 & 1:11063 & [\"T\",\"G\"] & rs561109771 & 4.7982e-5 & 0 \\\\\n",
       "\t2 & 1:13259 & [\"G\",\"A\"] & rs562993331 & 0.00027798 & 1 \\\\\n",
       "\t3 & 1:17641 & [\"G\",\"A\"] & rs578081284 & 0.00083096 & 2 \\\\\n",
       "\t4 & 1:57222 & [\"T\",\"C\"] & rs576081345 & 0.00065859 & 3 \\\\\n",
       "\t5 & 1:58396 & [\"T\",\"C\"] & rs570371753 & 0.00024023 & 4 \\\\\n",
       "\t6 & 1:63668 & [\"G\",\"A\"] & rs561430336 & 2.7728e-5 & 5 \\\\\n",
       "\t7 & 1:69569 & [\"T\",\"C\"] & rs2531267 & 0.00018542 & 6 \\\\\n",
       "\t8 & 1:79192 & [\"T\",\"G\"] & rs557418932 & 8.1599e-5 & 7 \\\\\n",
       "\t9 & 1:91588 & [\"G\",\"A\"] & rs554639997 & 0.00015868 & 8 \\\\\n",
       "\t10 & 1:533573 & [\"G\",\"A\"] & rs575442534 & 0.00066441 & 9 \\\\\n",
       "\t11 & 1:541944 & [\"T\",\"C\"] & rs568792105 & 0.00045009 & 10 \\\\\n",
       "\t12 & 1:542210 & [\"C\",\"T\"] & rs554292503 & 0.00015376 & 11 \\\\\n",
       "\t13 & 1:565148 & [\"T\",\"C\"] & rs547117545 & 0.00013131 & 12 \\\\\n",
       "\t14 & 1:565169 & [\"T\",\"C\"] & rs539230054 & 0.00015315 & 13 \\\\\n",
       "\t15 & 1:566012 & [\"C\",\"A\"] & rs529231313 & 0.00013573 & 14 \\\\\n",
       "\t16 & 1:570578 & [\"T\",\"G\"] & rs532537403 & 0.00051131 & 15 \\\\\n",
       "\t17 & 1:601158 & [\"GAGTA\",\"G\"] & 1:601158\\_GAGTA\\_G & 0.00087699 & 16 \\\\\n",
       "\t18 & 1:610420 & [\"G\",\"A\"] & rs539729304 & 2.7728e-5 & 17 \\\\\n",
       "\t19 & 1:615095 & [\"G\",\"GT\"] & rs544810763 & 1.9625e-5 & 18 \\\\\n",
       "\t20 & 1:668332 & [\"T\",\"C\"] & rs559879757 & 0.00010481 & 19 \\\\\n",
       "\t21 & 1:672798 & [\"G\",\"A\"] & rs538740799 & 2.4571e-5 & 20 \\\\\n",
       "\t22 & 1:691545 & [\"A\",\"T\"] & rs548729314 & 5.8962e-5 & 21 \\\\\n",
       "\t23 & 1:692794 & [\"CA\",\"C\"] & 1:692794\\_CA\\_C & 0.11074 & 22 \\\\\n",
       "\t24 & 1:693731 & [\"A\",\"G\"] & rs12238997 & 0.11581 & 23 \\\\\n",
       "\t25 & 1:706425 & [\"C\",\"T\"] & rs529439608 & 0.00011205 & 24 \\\\\n",
       "\t26 & 1:706992 & [\"C\",\"T\"] & rs533042087 & 2.7005e-5 & 25 \\\\\n",
       "\t27 & 1:707014 & [\"A\",\"C\"] & rs141817527 & 2.5206e-5 & 26 \\\\\n",
       "\t28 & 1:707522 & [\"G\",\"C\"] & rs371890604 & 0.097076 & 27 \\\\\n",
       "\t29 & 1:713698 & [\"C\",\"T\"] & rs555211605 & 6.6324e-5 & 28 \\\\\n",
       "\t30 & 1:713979 & [\"C\",\"G\"] & rs117217250 & 0.00017609 & 29 \\\\\n",
       "\t$\\dots$ & $\\dots$ & $\\dots$ & $\\dots$ & $\\dots$ & $\\dots$ \\\\\n",
       "\\end{tabular}\n"
      ],
      "text/plain": [
       "\u001b[1m23960350×5 DataFrame\u001b[0m\n",
       "\u001b[1m      Row \u001b[0m│\u001b[1m locus       \u001b[0m\u001b[1m alleles     \u001b[0m\u001b[1m rsid        \u001b[0m\u001b[1m AF         \u001b[0m\u001b[1m idx      \u001b[0m\n",
       "          │\u001b[90m String15    \u001b[0m\u001b[90m String      \u001b[0m\u001b[90m String      \u001b[0m\u001b[90m Float64    \u001b[0m\u001b[90m Int64    \u001b[0m\n",
       "──────────┼─────────────────────────────────────────────────────────────\n",
       "        1 │ 1:11063      [\"T\",\"G\"]    rs561109771  4.7982e-5          0\n",
       "        2 │ 1:13259      [\"G\",\"A\"]    rs562993331  0.00027798         1\n",
       "        3 │ 1:17641      [\"G\",\"A\"]    rs578081284  0.00083096         2\n",
       "        4 │ 1:57222      [\"T\",\"C\"]    rs576081345  0.00065859         3\n",
       "        5 │ 1:58396      [\"T\",\"C\"]    rs570371753  0.00024023         4\n",
       "        6 │ 1:63668      [\"G\",\"A\"]    rs561430336  2.7728e-5          5\n",
       "        7 │ 1:69569      [\"T\",\"C\"]    rs2531267    0.00018542         6\n",
       "        8 │ 1:79192      [\"T\",\"G\"]    rs557418932  8.1599e-5          7\n",
       "        9 │ 1:91588      [\"G\",\"A\"]    rs554639997  0.00015868         8\n",
       "       10 │ 1:533573     [\"G\",\"A\"]    rs575442534  0.00066441         9\n",
       "       11 │ 1:541944     [\"T\",\"C\"]    rs568792105  0.00045009        10\n",
       "    ⋮     │      ⋮            ⋮            ⋮           ⋮          ⋮\n",
       " 23960341 │ X:154926231  [\"A\",\"G\"]    rs778365582  0.00044274  23960340\n",
       " 23960342 │ X:154926376  [\"C\",\"T\"]    rs116490668  0.00012049  23960341\n",
       " 23960343 │ X:154926667  [\"C\",\"A\"]    rs73562853   2.9462e-5   23960342\n",
       " 23960344 │ X:154926795  [\"G\",\"A\"]    rs142669955  2.8269e-5   23960343\n",
       " 23960345 │ X:154927581  [\"G\",\"A\"]    rs644138     0.30273     23960344\n",
       " 23960346 │ X:154929412  [\"C\",\"T\"]    rs557132     0.24591     23960345\n",
       " 23960347 │ X:154929637  [\"CT\",\"C\"]   rs762503228  0.22984     23960346\n",
       " 23960348 │ X:154929952  [\"CAA\",\"C\"]  rs775521832  0.23978     23960347\n",
       " 23960349 │ X:154930230  [\"A\",\"G\"]    rs781880     0.24633     23960348\n",
       " 23960350 │ X:154930487  [\"T\",\"A\"]    rs781879     0.019688    23960349\n",
       "\u001b[36m                                                   23960329 rows omitted\u001b[0m"
      ]
     },
     "execution_count": 3,
     "metadata": {},
     "output_type": "execute_result"
    }
   ],
   "source": [
    "using EasyLD\n",
    "ht_file = \"/Users/biona001/.julia/dev/EasyLD/data/UKBB.EUR.ldadj.variant.ht\"\n",
    "df = read_variant_index_tables(ht_file)"
   ]
  },
  {
   "cell_type": "code",
   "execution_count": 10,
   "metadata": {
    "collapsed": false
   },
   "outputs": [
    {
     "data": {
      "text/plain": [
       "1810668-element Vector{Int64}:\n",
       "     11063\n",
       "     13259\n",
       "     17641\n",
       "     57222\n",
       "     58396\n",
       "     63668\n",
       "     69569\n",
       "     79192\n",
       "     91588\n",
       "    533573\n",
       "    541944\n",
       "    542210\n",
       "    565148\n",
       "         ⋮\n",
       " 249229734\n",
       " 249229855\n",
       " 249229967\n",
       " 249230279\n",
       " 249230793\n",
       " 249230849\n",
       " 249230914\n",
       " 249231445\n",
       " 249231938\n",
       " 249232824\n",
       " 249234747\n",
       " 249239233"
      ]
     },
     "execution_count": 10,
     "metadata": {},
     "output_type": "execute_result"
    }
   ],
   "source": [
    "locus = df[!, \"locus\"]\n",
    "idx = findall(x -> startswith(x, \"1:\"), locus)\n",
    "chr1_pos = split.(locus[idx], ':')\n",
    "chr1_pos = parse.(Int, [chr1_pos[i][2] for i in 1:length(chr1_pos)])"
   ]
  },
  {
   "cell_type": "markdown",
   "metadata": {},
   "source": [
    "## Quasi-independent regions\n",
    "\n",
    "Compare against ldetect: https://bitbucket.org/nygcresearch/ldetect-data/src/master/EUR/fourier_ls-chr1.bed\n",
    "\n",
    "For example, how many SNP falls in region 1 of ldetect?"
   ]
  },
  {
   "cell_type": "code",
   "execution_count": 20,
   "metadata": {
    "collapsed": false
   },
   "outputs": [
    {
     "data": {
      "text/plain": [
       "9176"
      ]
     },
     "execution_count": 20,
     "metadata": {},
     "output_type": "execute_result"
    }
   ],
   "source": [
    "region_start, region_end = 10583, 1892607\n",
    "count(x -> region_start ≤ x ≤ region_end, chr1_pos)"
   ]
  },
  {
   "cell_type": "markdown",
   "metadata": {},
   "source": [
    "Let's examine these numbers more systematically."
   ]
  },
  {
   "cell_type": "code",
   "execution_count": 30,
   "metadata": {
    "collapsed": false
   },
   "outputs": [
    {
     "name": "stdout",
     "output_type": "stream",
     "text": [
      "minimum(block_sizes) = 48\n",
      "mean(block_sizes) = 13614.646616541353\n",
      "median(block_sizes) = 13203.0\n",
      "maximum(block_sizes) = 24183\n"
     ]
    },
    {
     "data": {
      "image/png": "[encoded data removed]"
     },
     "execution_count": 30,
     "metadata": {},
     "output_type": "execute_result"
    }
   ],
   "source": [
    "chr1_ldetect = CSV.read(\"/Users/biona001/.julia/dev/EasyLD/ldetect/EUR/fourier_ls-chr1.bed\", DataFrame)\n",
    "block_start = chr1_ldetect[!, 2]\n",
    "block_end = chr1_ldetect[!, 3]\n",
    "\n",
    "block_sizes = Int[]\n",
    "for (st, ed) in zip(block_start, block_end)\n",
    "    push!(block_sizes, count(x -> st ≤ x ≤ ed, chr1_pos))\n",
    "end\n",
    "\n",
    "@show minimum(block_sizes)\n",
    "@show mean(block_sizes)\n",
    "@show median(block_sizes)\n",
    "@show maximum(block_sizes)\n",
    "\n",
    "histogram(block_sizes, bins=50, label=false, xlabel=\"block size\", ylabel=\"counts\", title=\"Chr1 block sizes\")"
   ]
  },
  {
   "cell_type": "markdown",
   "metadata": {
    "collapsed": true
   },
   "source": [
    "## Misc\n",
    "\n",
    "List all files in bucket"
   ]
  },
  {
   "cell_type": "code",
   "execution_count": 5,
   "metadata": {
    "collapsed": false
   },
   "outputs": [],
   "source": [
    "using AWS: @service\n",
    "using AWSS3"
   ]
  },
  {
   "cell_type": "code",
   "execution_count": 6,
   "metadata": {
    "collapsed": false
   },
   "outputs": [
    {
     "data": {
      "text/plain": [
       "p\"s3://pan-ukb-us-east-1/ld_release/\""
      ]
     },
     "execution_count": 6,
     "metadata": {},
     "output_type": "execute_result"
    }
   ],
   "source": [
    "p = S3Path(\"s3://pan-ukb-us-east-1/ld_release/\")"
   ]
  },
  {
   "cell_type": "code",
   "execution_count": 13,
   "metadata": {
    "collapsed": false
   },
   "outputs": [
    {
     "data": {
      "text/plain": [
       "22-element Vector{String}:\n",
       " \"UKBB.EUR.25LDMS.l2.M\"\n",
       " \"UKBB.EUR.25LDMS.l2.M_5_50\"\n",
       " \"UKBB.EUR.25LDMS.l2.annot.gz\"\n",
       " \"UKBB.EUR.25LDMS.l2.ldscore.gz\"\n",
       " \"UKBB.EUR.25LDMS.ldscore.ht/\"\n",
       " \"UKBB.EUR.25LDMS.rsid.l2.annot.gz\"\n",
       " \"UKBB.EUR.25LDMS.rsid.l2.ldscore.gz\"\n",
       " \"UKBB.EUR.8LDMS.l2.M\"\n",
       " \"UKBB.EUR.8LDMS.l2.M_5_50\"\n",
       " \"UKBB.EUR.8LDMS.l2.annot.gz\"\n",
       " \"UKBB.EUR.8LDMS.l2.ldscore.gz\"\n",
       " \"UKBB.EUR.8LDMS.ldscore.ht/\"\n",
       " \"UKBB.EUR.8LDMS.rsid.l2.annot.gz\"\n",
       " \"UKBB.EUR.8LDMS.rsid.l2.ldscore.gz\"\n",
       " \"UKBB.EUR.l2.M\"\n",
       " \"UKBB.EUR.l2.M_5_50\"\n",
       " \"UKBB.EUR.l2.ldscore.gz\"\n",
       " \"UKBB.EUR.ldadj.bm/\"\n",
       " \"UKBB.EUR.ldadj.variant.b38.ht/\"\n",
       " \"UKBB.EUR.ldadj.variant.ht/\"\n",
       " \"UKBB.EUR.ldscore.ht/\"\n",
       " \"UKBB.EUR.rsid.l2.ldscore.gz\""
      ]
     },
     "execution_count": 13,
     "metadata": {},
     "output_type": "execute_result"
    }
   ],
   "source": [
    "# list files starting with UKBB.EUR\n",
    "dirs = readdir(p)\n",
    "dirs[findall(x -> startswith(x, \"UKBB.EUR\"), dirs)]"
   ]
  },
  {
   "cell_type": "code",
   "execution_count": 7,
   "metadata": {
    "collapsed": false
   },
   "outputs": [
    {
     "data": {
      "text/plain": [
       "Status(\n",
       "  device = 0,\n",
       "  inode = 0,\n",
       "  mode = -rw-rw-rw-,\n",
       "  nlink = 0,\n",
       "  uid = 501 (biona001),\n",
       "  gid = 20 (staff),\n",
       "  rdev = 0,\n",
       "  size = 0 (0.0),\n",
       "  blksize = 4096 (4.0K),\n",
       "  blocks = 0,\n",
       "  mtime = 0000-01-01T00:00:00,\n",
       "  ctime = 0000-01-01T00:00:00,\n",
       ")"
      ]
     },
     "execution_count": 7,
     "metadata": {},
     "output_type": "execute_result"
    }
   ],
   "source": [
    "file = joinpath(p, \"UKBB.EUR.ldadj.bm\")\n",
    "stat(file)"
   ]
  },
  {
   "cell_type": "code",
   "execution_count": 18,
   "metadata": {
    "collapsed": false
   },
   "outputs": [
    {
     "data": {
      "text/plain": [
       "6-element Vector{String}:\n",
       " \"README.txt\"\n",
       " \"_SUCCESS\"\n",
       " \"globals/\"\n",
       " \"index/\"\n",
       " \"metadata.json.gz\"\n",
       " \"rows/\""
      ]
     },
     "execution_count": 18,
     "metadata": {},
     "output_type": "execute_result"
    }
   ],
   "source": [
    "using AWSS3\n",
    "\n",
    "bucket = \"pan-ukb-us-east-1/ld_release\"\n",
    "path = \"UKBB.EUR.ldadj.variant.ht\"\n",
    "dir = joinpath(\"s3://\", bucket, path)\n",
    "readdir(S3Path(dir * \"/\"))"
   ]
  },
  {
   "cell_type": "markdown",
   "metadata": {},
   "source": [
    "Download and check README file"
   ]
  },
  {
   "cell_type": "code",
   "execution_count": 19,
   "metadata": {
    "collapsed": false
   },
   "outputs": [],
   "source": [
    "outdir = \"/Users/biona001/.julia/dev/EasyLD/data/UKBB.EUR.ldadj.variant.ht\"\n",
    "s3_get_file(bucket, joinpath(path, \"README.txt\"), joinpath(outdir, \"README.txt\"))"
   ]
  },
  {
   "cell_type": "code",
   "execution_count": 21,
   "metadata": {
    "collapsed": false
   },
   "outputs": [
    {
     "name": "stdout",
     "output_type": "stream",
     "text": [
      "This folder comprises a Hail (www.hail.is) native Table or MatrixTable.\n",
      "  Written with version 0.2.64-1ef70187dc78\n",
      "  Created at 2021/03/30 01:57:37"
     ]
    }
   ],
   "source": [
    ";head /Users/biona001/.julia/dev/EasyLD/data/UKBB.EUR.ldadj.variant.ht/README.txt"
   ]
  },
  {
   "cell_type": "markdown",
   "metadata": {},
   "source": [
    "Check inside `UKBB.EUR.ldadj.variant.ht/index`"
   ]
  },
  {
   "cell_type": "code",
   "execution_count": 27,
   "metadata": {
    "collapsed": false
   },
   "outputs": [
    {
     "data": {
      "text/plain": [
       "18904-element Vector{String}:\n",
       " \"part-00000-38-0-0-6427c99b-9cd4-7c36-673b-98da4d7d69bf.idx/\"\n",
       " \"part-00001-38-1-0-12a00088-763b-7aa0-4c75-3174e6bcaeaf.idx/\"\n",
       " \"part-00002-38-2-0-864c49d5-6ecf-d3d1-7a84-3208d8861c9f.idx/\"\n",
       " \"part-00003-38-3-0-cf8da943-a599-d21c-7209-72949a3b5e83.idx/\"\n",
       " \"part-00004-38-4-0-c85abe4c-f578-8d13-6c41-a4938fa27b6c.idx/\"\n",
       " \"part-00005-38-5-0-80482f16-5400-cabb-afe9-8ead9c502076.idx/\"\n",
       " \"part-00006-38-6-0-10351893-cb61-2394-4db6-50a09faa293a.idx/\"\n",
       " \"part-00007-38-7-0-3bea7a57-4cb6-003a-7637-c903814e2632.idx/\"\n",
       " \"part-00008-38-8-0-7ecdfdaa-1f51-12c0-6701-586e55c7056c.idx/\"\n",
       " \"part-00009-38-9-0-1f92954a-3778-713e-39d7-4293426b1fe7.idx/\"\n",
       " \"part-00010-38-10-0-0b33199f-e1eb-c9d3-7add-4cb5d085145b.idx/\"\n",
       " \"part-00011-38-11-0-052130f9-7626-6245-290f-9565c34840ff.idx/\"\n",
       " \"part-00012-38-12-0-ac0d7e4b-cc18-17c8-3da6-4177afff70bf.idx/\"\n",
       " ⋮\n",
       " \"part-18892-38-18892-0-5cf61076-1b19-e74b-b73d-68f7689e5fc5.idx/\"\n",
       " \"part-18893-38-18893-0-29bac184-5f5a-0788-c304-2f7a2c8b1b86.idx/\"\n",
       " \"part-18894-38-18894-0-8d1c2c62-7eb0-9502-051f-7dbd39841337.idx/\"\n",
       " \"part-18895-38-18895-0-834ebe03-264f-5105-9d43-34acb3d84d66.idx/\"\n",
       " \"part-18896-38-18896-0-6d3e0774-d512-928f-84ca-1d63b61f761e.idx/\"\n",
       " \"part-18897-38-18897-0-5f6bd27f-7b4a-f375-c9ae-6ea3f363df8e.idx/\"\n",
       " \"part-18898-38-18898-0-fe409f05-191d-a38d-f95e-ec3d3fc465cf.idx/\"\n",
       " \"part-18899-38-18899-0-ffe44d2b-f22b-cace-d32e-d7d6b1383df5.idx/\"\n",
       " \"part-18900-38-18900-0-5470e8cf-6726-dedd-8e4f-baea8a4d6769.idx/\"\n",
       " \"part-18901-38-18901-0-bdef2133-c2e2-3e44-8065-a971438e070c.idx/\"\n",
       " \"part-18902-38-18902-0-5113576e-43c1-644a-8383-479c5926f4e4.idx/\"\n",
       " \"part-18903-38-18903-0-44575c88-1f91-285b-7f2a-ff3800e4af90.idx/\""
      ]
     },
     "execution_count": 27,
     "metadata": {},
     "output_type": "execute_result"
    }
   ],
   "source": [
    "dir = joinpath(\"s3://\", bucket, path, \"index\")\n",
    "idx_files = readdir(S3Path(dir * \"/\"))"
   ]
  },
  {
   "cell_type": "code",
   "execution_count": 29,
   "metadata": {
    "collapsed": false
   },
   "outputs": [
    {
     "data": {
      "text/plain": [
       "2-element Vector{String}:\n",
       " \"index\"\n",
       " \"metadata.json.gz\""
      ]
     },
     "execution_count": 29,
     "metadata": {},
     "output_type": "execute_result"
    }
   ],
   "source": [
    "idx1 = idx_files[1]\n",
    "dir = joinpath(\"s3://\", bucket, path, \"index\", idx1)\n",
    "readdir(S3Path(dir * \"/\"))"
   ]
  },
  {
   "cell_type": "markdown",
   "metadata": {},
   "source": [
    "Download one such index file and see what it is"
   ]
  },
  {
   "cell_type": "code",
   "execution_count": 25,
   "metadata": {
    "collapsed": false
   },
   "outputs": [
    {
     "ename": "LoadError",
     "evalue": "AWS.AWSExceptions.AWSException: NoSuchKey -- The specified key does not exist.\n\nHTTP.Exceptions.StatusError(404, \"GET\", \"/pan-ukb-us-east-1/ld_release/UKBB.EUR.ldadj.variant.ht/index/part-00000-38-0-0-6427c99b-9cd4-7c36-673b-98da4d7d69bf.idx/\", HTTP.Messages.Response:\n\"\"\"\nHTTP/1.1 404 Not Found\r\nx-amz-request-id: CBKW09QK2DW2F7P1\r\nx-amz-id-2: jgk6MKAruxtSyreRJ2SvJ2S1K5vfIqePzIw6S76zjeF1HJLsCI4xVjjtEjZ0VnwkC9icO9DJ8og=\r\nContent-Type: application/xml\r\nTransfer-Encoding: chunked\r\nDate: Fri, 03 Mar 2023 22:41:17 GMT\r\nServer: AmazonS3\r\n\r\n[Message Body was streamed]\"\"\")\n\n<?xml version=\"1.0\" encoding=\"UTF-8\"?>\n<Error><Code>NoSuchKey</Code><Message>The specified key does not exist.</Message><Key>ld_release/UKBB.EUR.ldadj.variant.ht/index/part-00000-38-0-0-6427c99b-9cd4-7c36-673b-98da4d7d69bf.idx/</Key><RequestId>CBKW09QK2DW2F7P1</RequestId><HostId>jgk6MKAruxtSyreRJ2SvJ2S1K5vfIqePzIw6S76zjeF1HJLsCI4xVjjtEjZ0VnwkC9icO9DJ8og=</HostId></Error>\n",
     "output_type": "error",
     "traceback": [
      "AWS.AWSExceptions.AWSException: NoSuchKey -- The specified key does not exist.\n\nHTTP.Exceptions.StatusError(404, \"GET\", \"/pan-ukb-us-east-1/ld_release/UKBB.EUR.ldadj.variant.ht/index/part-00000-38-0-0-6427c99b-9cd4-7c36-673b-98da4d7d69bf.idx/\", HTTP.Messages.Response:\n\"\"\"\nHTTP/1.1 404 Not Found\r\nx-amz-request-id: CBKW09QK2DW2F7P1\r\nx-amz-id-2: jgk6MKAruxtSyreRJ2SvJ2S1K5vfIqePzIw6S76zjeF1HJLsCI4xVjjtEjZ0VnwkC9icO9DJ8og=\r\nContent-Type: application/xml\r\nTransfer-Encoding: chunked\r\nDate: Fri, 03 Mar 2023 22:41:17 GMT\r\nServer: AmazonS3\r\n\r\n[Message Body was streamed]\"\"\")\n\n<?xml version=\"1.0\" encoding=\"UTF-8\"?>\n<Error><Code>NoSuchKey</Code><Message>The specified key does not exist.</Message><Key>ld_release/UKBB.EUR.ldadj.variant.ht/index/part-00000-38-0-0-6427c99b-9cd4-7c36-673b-98da4d7d69bf.idx/</Key><RequestId>CBKW09QK2DW2F7P1</RequestId><HostId>jgk6MKAruxtSyreRJ2SvJ2S1K5vfIqePzIw6S76zjeF1HJLsCI4xVjjtEjZ0VnwkC9icO9DJ8og=</HostId></Error>\n",
      "",
      "Stacktrace:",
      "  [1] (::HTTP.ExceptionRequest.var\"#1#3\"{HTTP.ExceptionRequest.var\"#1#2#4\"{typeof(HTTP.StreamRequest.streamlayer)}})(stream::HTTP.Streams.Stream{HTTP.Messages.Response, HTTP.ConnectionPool.Connection{MbedTLS.SSLContext}}; status_exception::Bool, kw::Base.Pairs{Symbol, Union{Nothing, Int64}, Tuple{Symbol, Symbol, Symbol}, NamedTuple{(:iofunction, :decompress, :verbose), Tuple{Nothing, Nothing, Int64}}})",
      "    @ HTTP.ExceptionRequest ~/.julia/packages/HTTP/z8l0i/src/clientlayers/ExceptionRequest.jl:16",
      "  [2] #1#2",
      "    @ ~/.julia/packages/HTTP/z8l0i/src/clientlayers/TimeoutRequest.jl:17 [inlined]",
      "  [3] (::HTTP.ConnectionRequest.var\"#1#7\"{HTTP.ConnectionRequest.var\"#1#2#8\"{HTTP.TimeoutRequest.var\"#1#6\"{HTTP.TimeoutRequest.var\"#1#2#7\"{HTTP.ExceptionRequest.var\"#1#3\"{HTTP.ExceptionRequest.var\"#1#2#4\"{typeof(HTTP.StreamRequest.streamlayer)}}}}}})(req::HTTP.Messages.Request; proxy::Nothing, socket_type::Type, socket_type_tls::Type, readtimeout::Int64, kw::Base.Pairs{Symbol, Union{Nothing, Int64}, Tuple{Symbol, Symbol, Symbol}, NamedTuple{(:iofunction, :decompress, :verbose), Tuple{Nothing, Nothing, Int64}}})",
      "    @ HTTP.ConnectionRequest ~/.julia/packages/HTTP/z8l0i/src/clientlayers/ConnectionRequest.jl:111",
      "  [4] (::HTTP.CanonicalizeRequest.var\"#1#3\"{HTTP.CanonicalizeRequest.var\"#1#2#4\"{HTTP.ConnectionRequest.var\"#1#7\"{HTTP.ConnectionRequest.var\"#1#2#8\"{HTTP.TimeoutRequest.var\"#1#6\"{HTTP.TimeoutRequest.var\"#1#2#7\"{HTTP.ExceptionRequest.var\"#1#3\"{HTTP.ExceptionRequest.var\"#1#2#4\"{typeof(HTTP.StreamRequest.streamlayer)}}}}}}}})(req::HTTP.Messages.Request; canonicalize_headers::Bool, kw::Base.Pairs{Symbol, Union{Nothing, Int64}, Tuple{Symbol, Symbol, Symbol}, NamedTuple{(:iofunction, :decompress, :verbose), Tuple{Nothing, Nothing, Int64}}})",
      "    @ HTTP.CanonicalizeRequest ~/.julia/packages/HTTP/z8l0i/src/clientlayers/CanonicalizeRequest.jl:17",
      "  [5] (::HTTP.RetryRequest.var\"#1#4\"{HTTP.RetryRequest.var\"#1#2#5\"{HTTP.CanonicalizeRequest.var\"#1#3\"{HTTP.CanonicalizeRequest.var\"#1#2#4\"{HTTP.ConnectionRequest.var\"#1#7\"{HTTP.ConnectionRequest.var\"#1#2#8\"{HTTP.TimeoutRequest.var\"#1#6\"{HTTP.TimeoutRequest.var\"#1#2#7\"{HTTP.ExceptionRequest.var\"#1#3\"{HTTP.ExceptionRequest.var\"#1#2#4\"{typeof(HTTP.StreamRequest.streamlayer)}}}}}}}}}})(req::HTTP.Messages.Request; retry::Bool, retries::Int64, retry_delays::ExponentialBackOff, retry_check::Function, retry_non_idempotent::Bool, kw::Base.Pairs{Symbol, Union{Nothing, Int64}, Tuple{Symbol, Symbol, Symbol}, NamedTuple{(:iofunction, :decompress, :verbose), Tuple{Nothing, Nothing, Int64}}})",
      "    @ HTTP.RetryRequest ~/.julia/packages/HTTP/z8l0i/src/clientlayers/RetryRequest.jl:35",
      "  [6] (::HTTP.CookieRequest.var\"#1#5\"{HTTP.CookieRequest.var\"#1#2#6\"{HTTP.RetryRequest.var\"#1#4\"{HTTP.RetryRequest.var\"#1#2#5\"{HTTP.CanonicalizeRequest.var\"#1#3\"{HTTP.CanonicalizeRequest.var\"#1#2#4\"{HTTP.ConnectionRequest.var\"#1#7\"{HTTP.ConnectionRequest.var\"#1#2#8\"{HTTP.TimeoutRequest.var\"#1#6\"{HTTP.TimeoutRequest.var\"#1#2#7\"{HTTP.ExceptionRequest.var\"#1#3\"{HTTP.ExceptionRequest.var\"#1#2#4\"{typeof(HTTP.StreamRequest.streamlayer)}}}}}}}}}}}})(req::HTTP.Messages.Request; cookies::Bool, cookiejar::HTTP.Cookies.CookieJar, kw::Base.Pairs{Symbol, Union{Nothing, Integer}, NTuple{4, Symbol}, NamedTuple{(:iofunction, :decompress, :verbose, :retry), Tuple{Nothing, Nothing, Int64, Bool}}})",
      "    @ HTTP.CookieRequest ~/.julia/packages/HTTP/z8l0i/src/clientlayers/CookieRequest.jl:42",
      "  [7] (::HTTP.ContentTypeDetection.var\"#1#3\"{HTTP.ContentTypeDetection.var\"#1#2#4\"{HTTP.CookieRequest.var\"#1#5\"{HTTP.CookieRequest.var\"#1#2#6\"{HTTP.RetryRequest.var\"#1#4\"{HTTP.RetryRequest.var\"#1#2#5\"{HTTP.CanonicalizeRequest.var\"#1#3\"{HTTP.CanonicalizeRequest.var\"#1#2#4\"{HTTP.ConnectionRequest.var\"#1#7\"{HTTP.ConnectionRequest.var\"#1#2#8\"{HTTP.TimeoutRequest.var\"#1#6\"{HTTP.TimeoutRequest.var\"#1#2#7\"{HTTP.ExceptionRequest.var\"#1#3\"{HTTP.ExceptionRequest.var\"#1#2#4\"{typeof(HTTP.StreamRequest.streamlayer)}}}}}}}}}}}}}})(req::HTTP.Messages.Request; detect_content_type::Bool, kw::Base.Pairs{Symbol, Union{Nothing, Integer}, NTuple{4, Symbol}, NamedTuple{(:iofunction, :decompress, :verbose, :retry), Tuple{Nothing, Nothing, Int64, Bool}}})",
      "    @ HTTP.ContentTypeDetection ~/.julia/packages/HTTP/z8l0i/src/clientlayers/ContentTypeRequest.jl:23",
      "  [8] (::HTTP.BasicAuthRequest.var\"#1#3\"{HTTP.BasicAuthRequest.var\"#1#2#4\"{HTTP.ContentTypeDetection.var\"#1#3\"{HTTP.ContentTypeDetection.var\"#1#2#4\"{HTTP.CookieRequest.var\"#1#5\"{HTTP.CookieRequest.var\"#1#2#6\"{HTTP.RetryRequest.var\"#1#4\"{HTTP.RetryRequest.var\"#1#2#5\"{HTTP.CanonicalizeRequest.var\"#1#3\"{HTTP.CanonicalizeRequest.var\"#1#2#4\"{HTTP.ConnectionRequest.var\"#1#7\"{HTTP.ConnectionRequest.var\"#1#2#8\"{HTTP.TimeoutRequest.var\"#1#6\"{HTTP.TimeoutRequest.var\"#1#2#7\"{HTTP.ExceptionRequest.var\"#1#3\"{HTTP.ExceptionRequest.var\"#1#2#4\"{typeof(HTTP.StreamRequest.streamlayer)}}}}}}}}}}}}}}}})(req::HTTP.Messages.Request; basicauth::Bool, kw::Base.Pairs{Symbol, Union{Nothing, Integer}, NTuple{4, Symbol}, NamedTuple{(:iofunction, :decompress, :verbose, :retry), Tuple{Nothing, Nothing, Int64, Bool}}})",
      "    @ HTTP.BasicAuthRequest ~/.julia/packages/HTTP/z8l0i/src/clientlayers/BasicAuthRequest.jl:22",
      "  [9] (::HTTP.DefaultHeadersRequest.var\"#1#3\"{HTTP.DefaultHeadersRequest.var\"#1#2#4\"{HTTP.BasicAuthRequest.var\"#1#3\"{HTTP.BasicAuthRequest.var\"#1#2#4\"{HTTP.ContentTypeDetection.var\"#1#3\"{HTTP.ContentTypeDetection.var\"#1#2#4\"{HTTP.CookieRequest.var\"#1#5\"{HTTP.CookieRequest.var\"#1#2#6\"{HTTP.RetryRequest.var\"#1#4\"{HTTP.RetryRequest.var\"#1#2#5\"{HTTP.CanonicalizeRequest.var\"#1#3\"{HTTP.CanonicalizeRequest.var\"#1#2#4\"{HTTP.ConnectionRequest.var\"#1#7\"{HTTP.ConnectionRequest.var\"#1#2#8\"{HTTP.TimeoutRequest.var\"#1#6\"{HTTP.TimeoutRequest.var\"#1#2#7\"{HTTP.ExceptionRequest.var\"#1#3\"{HTTP.ExceptionRequest.var\"#1#2#4\"{typeof(HTTP.StreamRequest.streamlayer)}}}}}}}}}}}}}}}}}})(req::HTTP.Messages.Request; iofunction::Nothing, decompress::Nothing, kw::Base.Pairs{Symbol, Integer, Tuple{Symbol, Symbol}, NamedTuple{(:verbose, :retry), Tuple{Int64, Bool}}})",
      "    @ HTTP.DefaultHeadersRequest ~/.julia/packages/HTTP/z8l0i/src/clientlayers/DefaultHeadersRequest.jl:47",
      " [10] (::HTTP.RedirectRequest.var\"#1#4\"{HTTP.RedirectRequest.var\"#1#2#5\"{HTTP.DefaultHeadersRequest.var\"#1#3\"{HTTP.DefaultHeadersRequest.var\"#1#2#4\"{HTTP.BasicAuthRequest.var\"#1#3\"{HTTP.BasicAuthRequest.var\"#1#2#4\"{HTTP.ContentTypeDetection.var\"#1#3\"{HTTP.ContentTypeDetection.var\"#1#2#4\"{HTTP.CookieRequest.var\"#1#5\"{HTTP.CookieRequest.var\"#1#2#6\"{HTTP.RetryRequest.var\"#1#4\"{HTTP.RetryRequest.var\"#1#2#5\"{HTTP.CanonicalizeRequest.var\"#1#3\"{HTTP.CanonicalizeRequest.var\"#1#2#4\"{HTTP.ConnectionRequest.var\"#1#7\"{HTTP.ConnectionRequest.var\"#1#2#8\"{HTTP.TimeoutRequest.var\"#1#6\"{HTTP.TimeoutRequest.var\"#1#2#7\"{HTTP.ExceptionRequest.var\"#1#3\"{HTTP.ExceptionRequest.var\"#1#2#4\"{typeof(HTTP.StreamRequest.streamlayer)}}}}}}}}}}}}}}}}}}}})(req::HTTP.Messages.Request; redirect::Bool, redirect_limit::Int64, redirect_method::Nothing, forwardheaders::Bool, response_stream::Base.BufferStream, kw::Base.Pairs{Symbol, Integer, Tuple{Symbol, Symbol}, NamedTuple{(:verbose, :retry), Tuple{Int64, Bool}}})",
      "    @ HTTP.RedirectRequest ~/.julia/packages/HTTP/z8l0i/src/clientlayers/RedirectRequest.jl:17",
      " [11] #1#2",
      "    @ ~/.julia/packages/HTTP/z8l0i/src/clientlayers/DebugRequest.jl:23 [inlined]",
      " [12] (::HTTP.MessageRequest.var\"#1#3\"{HTTP.MessageRequest.var\"#1#2#4\"{HTTP.DebugRequest.var\"#1#4\"{HTTP.DebugRequest.var\"#1#2#5\"{HTTP.RedirectRequest.var\"#1#4\"{HTTP.RedirectRequest.var\"#1#2#5\"{HTTP.DefaultHeadersRequest.var\"#1#3\"{HTTP.DefaultHeadersRequest.var\"#1#2#4\"{HTTP.BasicAuthRequest.var\"#1#3\"{HTTP.BasicAuthRequest.var\"#1#2#4\"{HTTP.ContentTypeDetection.var\"#1#3\"{HTTP.ContentTypeDetection.var\"#1#2#4\"{HTTP.CookieRequest.var\"#1#5\"{HTTP.CookieRequest.var\"#1#2#6\"{HTTP.RetryRequest.var\"#1#4\"{HTTP.RetryRequest.var\"#1#2#5\"{HTTP.CanonicalizeRequest.var\"#1#3\"{HTTP.CanonicalizeRequest.var\"#1#2#4\"{HTTP.ConnectionRequest.var\"#1#7\"{HTTP.ConnectionRequest.var\"#1#2#8\"{HTTP.TimeoutRequest.var\"#1#6\"{HTTP.TimeoutRequest.var\"#1#2#7\"{HTTP.ExceptionRequest.var\"#1#3\"{HTTP.ExceptionRequest.var\"#1#2#4\"{typeof(HTTP.StreamRequest.streamlayer)}}}}}}}}}}}}}}}}}}}}}}}})(method::String, url::URIs.URI, headers::Vector{Pair{SubString{String}, SubString{String}}}, body::String; copyheaders::Bool, response_stream::Base.BufferStream, http_version::HTTP.Strings.HTTPVersion, kw::Base.Pairs{Symbol, Bool, Tuple{Symbol, Symbol}, NamedTuple{(:redirect, :retry), Tuple{Bool, Bool}}})",
      "    @ HTTP.MessageRequest ~/.julia/packages/HTTP/z8l0i/src/clientlayers/MessageRequest.jl:27",
      " [13] request(stack::HTTP.MessageRequest.var\"#1#3\"{HTTP.MessageRequest.var\"#1#2#4\"{HTTP.DebugRequest.var\"#1#4\"{HTTP.DebugRequest.var\"#1#2#5\"{HTTP.RedirectRequest.var\"#1#4\"{HTTP.RedirectRequest.var\"#1#2#5\"{HTTP.DefaultHeadersRequest.var\"#1#3\"{HTTP.DefaultHeadersRequest.var\"#1#2#4\"{HTTP.BasicAuthRequest.var\"#1#3\"{HTTP.BasicAuthRequest.var\"#1#2#4\"{HTTP.ContentTypeDetection.var\"#1#3\"{HTTP.ContentTypeDetection.var\"#1#2#4\"{HTTP.CookieRequest.var\"#1#5\"{HTTP.CookieRequest.var\"#1#2#6\"{HTTP.RetryRequest.var\"#1#4\"{HTTP.RetryRequest.var\"#1#2#5\"{HTTP.CanonicalizeRequest.var\"#1#3\"{HTTP.CanonicalizeRequest.var\"#1#2#4\"{HTTP.ConnectionRequest.var\"#1#7\"{HTTP.ConnectionRequest.var\"#1#2#8\"{HTTP.TimeoutRequest.var\"#1#6\"{HTTP.TimeoutRequest.var\"#1#2#7\"{HTTP.ExceptionRequest.var\"#1#3\"{HTTP.ExceptionRequest.var\"#1#2#4\"{typeof(HTTP.StreamRequest.streamlayer)}}}}}}}}}}}}}}}}}}}}}}}}, method::String, url::URIs.URI, h::Vector{Pair{SubString{String}, SubString{String}}}, b::String, q::Nothing; headers::Vector{Pair{SubString{String}, SubString{String}}}, body::String, query::Nothing, kw::Base.Pairs{Symbol, Any, Tuple{Symbol, Symbol, Symbol}, NamedTuple{(:redirect, :retry, :response_stream), Tuple{Bool, Bool, Base.BufferStream}}})",
      "    @ HTTP ~/.julia/packages/HTTP/z8l0i/src/HTTP.jl:426",
      " [14] #request#16",
      "    @ ~/.julia/packages/HTTP/z8l0i/src/HTTP.jl:286 [inlined]",
      " [15] macro expansion",
      "    @ ~/.julia/packages/Mocking/HMh91/src/mock.jl:29 [inlined]",
      " [16] (::AWS.var\"#40#42\"{AWS.Request, OrderedCollections.LittleDict{Symbol, Any, Vector{Symbol}, Vector{Any}}})()",
      "    @ AWS ~/.julia/packages/AWS/X9nAX/src/utilities/request.jl:220",
      " [17] (::Base.var\"#76#78\"{Base.var\"#76#77#79\"{AWS.AWSExponentialBackoff, AWS.var\"#41#43\", AWS.var\"#40#42\"{AWS.Request, OrderedCollections.LittleDict{Symbol, Any, Vector{Symbol}, Vector{Any}}}}})(; kwargs::Base.Pairs{Symbol, Union{}, Tuple{}, NamedTuple{(), Tuple{}}})",
      "    @ Base ./error.jl:294",
      " [18] (::Base.var\"#76#78\"{Base.var\"#76#77#79\"{AWS.AWSExponentialBackoff, AWS.var\"#41#43\", AWS.var\"#40#42\"{AWS.Request, OrderedCollections.LittleDict{Symbol, Any, Vector{Symbol}, Vector{Any}}}}})()",
      "    @ Base ./error.jl:290",
      " [19] _http_request(http_backend::AWS.HTTPBackend, request::AWS.Request, response_stream::Base.BufferStream)",
      "    @ AWS ~/.julia/packages/AWS/X9nAX/src/utilities/request.jl:245",
      " [20] macro expansion",
      "    @ ~/.julia/packages/Mocking/HMh91/src/mock.jl:29 [inlined]",
      " [21] (::AWS.var\"#33#36\"{AWS.AWSConfig, AWS.Request, Base.BufferStream, Vector{Int64}})()",
      "    @ AWS ~/.julia/packages/AWS/X9nAX/src/utilities/request.jl:129",
      " [22] (::AWS.var\"#34#38\"{AWS.var\"#33#36\"{AWS.AWSConfig, AWS.Request, Base.BufferStream, Vector{Int64}}, Base.BufferStream})()",
      "    @ AWS ~/.julia/packages/AWS/X9nAX/src/utilities/request.jl:144",
      " [23] (::Base.var\"#76#78\"{Base.var\"#76#77#79\"{AWS.AWSExponentialBackoff, AWS.var\"#35#39\"{AWS.AWSConfig, Vector{String}, Vector{String}, Int64}, AWS.var\"#34#38\"{AWS.var\"#33#36\"{AWS.AWSConfig, AWS.Request, Base.BufferStream, Vector{Int64}}, Base.BufferStream}}})(; kwargs::Base.Pairs{Symbol, Union{}, Tuple{}, NamedTuple{(), Tuple{}}})",
      "    @ Base ./error.jl:294",
      " [24] (::Base.var\"#76#78\"{Base.var\"#76#77#79\"{AWS.AWSExponentialBackoff, AWS.var\"#35#39\"{AWS.AWSConfig, Vector{String}, Vector{String}, Int64}, AWS.var\"#34#38\"{AWS.var\"#33#36\"{AWS.AWSConfig, AWS.Request, Base.BufferStream, Vector{Int64}}, Base.BufferStream}}})()",
      "    @ Base ./error.jl:290",
      " [25] submit_request(aws::AWS.AWSConfig, request::AWS.Request; return_headers::Nothing)",
      "    @ AWS ~/.julia/packages/AWS/X9nAX/src/utilities/request.jl:195",
      " [26] (::AWS.RestXMLService)(request_method::String, request_uri::String, args::Dict{String, Any}; aws_config::AWS.AWSConfig, feature_set::AWS.FeatureSet)",
      "    @ AWS ~/.julia/packages/AWS/X9nAX/src/AWS.jl:285",
      " [27] #get_object#90",
      "    @ ~/.julia/packages/AWS/X9nAX/src/services/s3.jl:2669 [inlined]",
      " [28] macro expansion",
      "    @ ~/.julia/packages/AWSS3/tK7Rm/src/AWSS3.jl:151 [inlined]",
      " [29] macro expansion",
      "    @ ~/.julia/packages/Retry/vS1bg/src/repeat_try.jl:192 [inlined]",
      " [30] s3_get(aws::AWS.AWSConfig, bucket::String, path::String; version::Nothing, retry::Bool, raw::Bool, byte_range::Nothing, headers::Dict{String, Any}, return_stream::Bool, kwargs::Base.Pairs{Symbol, Union{}, Tuple{}, NamedTuple{(), Tuple{}}})",
      "    @ AWSS3 ~/.julia/packages/AWSS3/tK7Rm/src/AWSS3.jl:133",
      " [31] #s3_get_file#6",
      "    @ ~/.julia/packages/AWSS3/tK7Rm/src/AWSS3.jl:184 [inlined]",
      " [32] s3_get_file(aws::AWS.AWSConfig, bucket::String, path::String, filename::String)",
      "    @ AWSS3 ~/.julia/packages/AWSS3/tK7Rm/src/AWSS3.jl:184",
      " [33] s3_get_file(::String, ::Vararg{String}; b::Base.Pairs{Symbol, Union{}, Tuple{}, NamedTuple{(), Tuple{}}})",
      "    @ AWSS3 ~/.julia/packages/AWSS3/tK7Rm/src/AWSS3.jl:193",
      " [34] s3_get_file(::String, ::String, ::String)",
      "    @ AWSS3 ~/.julia/packages/AWSS3/tK7Rm/src/AWSS3.jl:193",
      " [35] top-level scope",
      "    @ In[25]:3",
      " [36] eval",
      "    @ ./boot.jl:373 [inlined]",
      " [37] include_string(mapexpr::typeof(REPL.softscope), mod::Module, code::String, filename::String)",
      "    @ Base ./loading.jl:1196"
     ]
    }
   ],
   "source": [
    "outdir = \"/Users/biona001/.julia/dev/EasyLD/data/UKBB.EUR.ldadj.variant.ht/index\"\n",
    "filename = \"part-00000-38-0-0-6427c99b-9cd4-7c36-673b-98da4d7d69bf.idx/\"\n",
    "s3_get_file(bucket, \n",
    "    joinpath(path, \"index\", filename), \n",
    "    joinpath(outdir, filename))"
   ]
  },
  {
   "cell_type": "code",
   "execution_count": 26,
   "metadata": {
    "collapsed": false
   },
   "outputs": [
    {
     "data": {
      "text/plain": [
       "\"UKBB.EUR.ldadj.variant.ht/index/part-00000-38-0-0-6427c99b-9cd4-7c36-673b-98da4d7d69bf.idx/\""
      ]
     },
     "execution_count": 26,
     "metadata": {},
     "output_type": "execute_result"
    }
   ],
   "source": [
    "joinpath(path, \"index\", filename)"
   ]
  },
  {
   "cell_type": "markdown",
   "metadata": {
    "collapsed": true
   },
   "source": [
    "## Read hail table (python)\n",
    "\n",
    "On Sherlock, \n",
    "\n",
    "+ ml julia/1.6\n",
    "+ ml python/3.9\n",
    "+ ml java/11.0.11"
   ]
  },
  {
   "cell_type": "code",
   "execution_count": null,
   "metadata": {
    "collapsed": true
   },
   "outputs": [],
   "source": [
    "import hail as hl\n",
    "ht = \"UKBB.EUR.ldadj.variant.ht\"\n",
    "table1 = hl.read_table(ht)\n",
    "df = table1.to_pandas() # takes a long time\n",
    "df.memory_usage()\n",
    "\n",
    "# output of df.memory_usage()\n",
    "Index            128\n",
    "locus      191682800\n",
    "alleles    191682800\n",
    "rsid       191682800\n",
    "AF         215643150\n",
    "idx        215643150\n",
    "dtype: int64\n",
    "\n",
    "# this errors\n",
    "table1.write_many('UKBB.EUR.ldadj.variant.ht.julia', fields=('locus', 'alleles', 'rsid', 'AF'))\n",
    "\n",
    "# this works\n",
    "table1.export('UKBB.EUR.ldadj.variant.ht/UKBB.EUR.ldadj.variant.ht.tsv')"
   ]
  },
  {
   "cell_type": "markdown",
   "metadata": {},
   "source": [
    "## Command line function to list files available"
   ]
  },
  {
   "cell_type": "code",
   "execution_count": null,
   "metadata": {
    "collapsed": true
   },
   "outputs": [],
   "source": [
    "run(`aws s3 ls --summarize --human-readable --recursive s3://pan-ukb-us-east-1/ld_release/UKBB.EUR.ldadj.bm`)"
   ]
  },
  {
   "cell_type": "code",
   "execution_count": null,
   "metadata": {
    "collapsed": true
   },
   "outputs": [],
   "source": [
    "run(`aws s3 ls --summarize --human-readable --recursive s3://pan-ukb-us-east-1/ld_release/UKBB.EUR.ldadj.variant.ht`)"
   ]
  },
  {
   "cell_type": "code",
   "execution_count": null,
   "metadata": {
    "collapsed": true
   },
   "outputs": [],
   "source": [
    "run(`aws s3 ls --summarize --human-readable --recursive s3://pan-ukb-us-east-1/ld_release/UKBB.EUR.ldadj.variant.ht/index/part-00000-38-0-0-6427c99b-9cd4-7c36-673b-98da4d7d69bf.idx/index`)"
   ]
  },
  {
   "cell_type": "markdown",
   "metadata": {},
   "source": [
    "## AWS command to download a single folder"
   ]
  },
  {
   "cell_type": "code",
   "execution_count": null,
   "metadata": {
    "collapsed": true
   },
   "outputs": [],
   "source": [
    "aws s3 cp s3://pan-ukb-us-east-1/ld_release/UKBB.EUR.ldadj.variant.ht . --recursive"
   ]
  }
 ],
 "metadata": {
  "@webio": {
   "lastCommId": null,
   "lastKernelId": null
  },
  "kernelspec": {
   "display_name": "Julia 1.7.3",
   "language": "julia",
   "name": "julia-1.7"
  },
  "language_info": {
   "file_extension": ".jl",
   "mimetype": "application/julia",
   "name": "julia",
   "version": "1.7.3"
  }
 },
 "nbformat": 4,
 "nbformat_minor": 2
}
