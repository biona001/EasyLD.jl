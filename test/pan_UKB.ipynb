{
 "cells": [
  {
   "cell_type": "markdown",
   "metadata": {},
   "source": [
    "# Try downloading UKB data\n",
    "\n",
    "+ Link: https://pan-dev.ukbb.broadinstitute.org/docs/hail-format/index.html#extracting-a-subset-of-ld-matrix\n",
    "+ European samples are the largest, totaling 14.1T of data"
   ]
  },
  {
   "cell_type": "code",
   "execution_count": 1,
   "metadata": {
    "collapsed": false
   },
   "outputs": [],
   "source": [
    "using Revise\n",
    "using gnomAD"
   ]
  },
  {
   "cell_type": "markdown",
   "metadata": {},
   "source": [
    "First check how many files there are:"
   ]
  },
  {
   "cell_type": "code",
   "execution_count": 10,
   "metadata": {
    "collapsed": false
   },
   "outputs": [
    {
     "data": {
      "text/plain": [
       "124281-element Vector{String}:\n",
       " \"part-000000-44-0-0-22f828c8-17c3-7c3c-1fa1-1fc113144aca\"\n",
       " \"part-000001-44-1-0-d35bc353-c9b7-28e7-315b-f1bcd8d9e50b\"\n",
       " \"part-000002-44-2-2-7dc4e8fd-75f7-26d0-4b9c-65628f25cf34\"\n",
       " \"part-000003-44-3-0-74be7ee3-ba85-f9ce-4add-9638cf387f8a\"\n",
       " \"part-000004-44-4-0-b11cbd6a-50e2-4e5e-ae70-932ff3aebd5f\"\n",
       " \"part-000005-44-5-0-104f3537-b7e4-0959-555b-7e65ca2b00ae\"\n",
       " \"part-000006-44-6-0-f99bebaa-7361-9c3e-65a0-2700858c2b28\"\n",
       " \"part-000007-44-7-0-90293a19-7ae6-f6a6-1141-48f62ee6f8b1\"\n",
       " \"part-000008-44-8-0-847d7052-f784-0c5f-c4f8-d16df8745a23\"\n",
       " \"part-000009-44-9-0-2b61d351-aeda-4c03-52aa-cb380599219d\"\n",
       " \"part-000010-44-10-0-90b9d808-fa98-2727-ca3e-d63676464185\"\n",
       " \"part-000011-44-11-0-7a15dbc9-b5c7-3500-8258-886bbf569e35\"\n",
       " \"part-000012-44-12-0-73b49602-7c17-3f3b-860c-6aaa8b25f36b\"\n",
       " ⋮\n",
       " \"part-124226-44-124226-0-9948291d-f1c5-775a-4ed3-7d75c9e7d007\"\n",
       " \"part-124227-44-124227-0-43ffd695-b0c7-577e-0d5a-8ea5f3ed84d0\"\n",
       " \"part-124228-44-124228-0-d22a4e30-04f2-82aa-dfd2-4d3ae95e57b4\"\n",
       " \"part-124229-44-124229-0-12730aef-d105-61a3-5342-f20ed3bf3645\"\n",
       " \"part-124230-44-124230-0-984e649b-fc68-5397-3b47-52b76e87c2c6\"\n",
       " \"part-124231-44-124231-0-9fd5803f-f5c7-1c4c-a5fa-77b76dc1f52d\"\n",
       " \"part-124232-44-124232-0-b891bf57-4536-661b-d679-10aac2532957\"\n",
       " \"part-124233-44-124233-0-1c6f8f3f-9337-fc25-53ef-63e76c5a37cf\"\n",
       " \"part-124234-44-124234-0-ad9c21cc-9c7c-0ccb-9335-921cc35ae152\"\n",
       " \"part-124235-44-124235-0-0f31fad5-1ba4-79b3-dff0-cb17d6b694ed\"\n",
       " \"part-124236-44-124236-0-98383aba-a5c1-8093-c27f-001aae4730d3\"\n",
       " \"part-124237-44-124237-1-36053042-3e3b-0495-e362-d7e756ac8f5a\""
      ]
     },
     "execution_count": 10,
     "metadata": {},
     "output_type": "execute_result"
    }
   ],
   "source": [
    "get_ukb_filenames(\"EUR\", join=false)"
   ]
  },
  {
   "cell_type": "markdown",
   "metadata": {},
   "source": [
    "Try downloading the first 10 files (~1GB)"
   ]
  },
  {
   "cell_type": "code",
   "execution_count": 12,
   "metadata": {
    "collapsed": false
   },
   "outputs": [
    {
     "name": "stderr",
     "output_type": "stream",
     "text": [
      "\u001b[32mProgress: 100%|█████████████████████████████████████████| Time: 0:03:48\u001b[39m\n"
     ]
    }
   ],
   "source": [
    "population = \"EUR\"\n",
    "outdir = \"/Users/biona001/.julia/dev/gnomAD/data\"\n",
    "download_ukb_LD_matrices(population, outdir, start_from=1, num_files=10)"
   ]
  },
  {
   "cell_type": "markdown",
   "metadata": {},
   "source": [
    "Downloading 10 files took 228 seconds, so download all 124k files would take roughly 30 days. Fortunately, the `start_from` and `num_files` keywords allow us to split this into 30 jobs, so we should be able to download everything in 1 day or so."
   ]
  },
  {
   "cell_type": "markdown",
   "metadata": {},
   "source": [
    "# Reading the LD panel"
   ]
  },
  {
   "cell_type": "code",
   "execution_count": 2,
   "metadata": {
    "collapsed": false
   },
   "outputs": [],
   "source": [
    "data = \"/Users/biona001/.julia/dev/gnomAD/data/UKBB.EUR.ldadj.bm\"\n",
    "bm = hail_block_matrix(data);"
   ]
  },
  {
   "cell_type": "markdown",
   "metadata": {},
   "source": [
    "Check size of matrix"
   ]
  },
  {
   "cell_type": "code",
   "execution_count": 3,
   "metadata": {
    "collapsed": false
   },
   "outputs": [
    {
     "name": "stdout",
     "output_type": "stream",
     "text": [
      "2023-03-02 18:35:57.904 WARN  NativeCodeLoader:60 - Unable to load native-hadoop library for your platform... using builtin-java classes where applicable\n"
     ]
    },
    {
     "name": "stderr",
     "output_type": "stream",
     "text": [
      "Initializing Hail with default parameters...\n",
      "Picked up _JAVA_OPTIONS: -Xmx16g\n",
      "Picked up _JAVA_OPTIONS: -Xmx16g\n",
      "Setting default log level to \"WARN\".\n",
      "To adjust logging level use sc.setLogLevel(newLevel). For SparkR, use setLogLevel(newLevel).\n",
      "Running on Apache Spark version 3.1.3\n",
      "SparkUI available at http://dn52ecmi.sunet:4040\n",
      "Welcome to\n",
      "     __  __     <>__\n",
      "    / /_/ /__  __/ /\n",
      "   / __  / _ `/ / /\n",
      "  /_/ /_/\\_,_/_/_/   version 0.2.109-b71b065e4bb6\n",
      "LOGGING: writing to /Users/biona001/.julia/dev/gnomAD/test/hail-20230302-1835-0.2.109-b71b065e4bb6.log\n"
     ]
    },
    {
     "data": {
      "text/plain": [
       "(23960350, 23960350)"
      ]
     },
     "execution_count": 3,
     "metadata": {},
     "output_type": "execute_result"
    }
   ],
   "source": [
    "size(bm)"
   ]
  },
  {
   "cell_type": "markdown",
   "metadata": {},
   "source": [
    "Read first 10000 by 10000 block into memory"
   ]
  },
  {
   "cell_type": "code",
   "execution_count": 4,
   "metadata": {
    "collapsed": false
   },
   "outputs": [
    {
     "name": "stderr",
     "output_type": "stream",
     "text": [
      "\r",
      "[Stage 0:>                                                          (0 + 6) / 6]\r",
      "\r",
      "[Stage 0:=============================>                             (3 + 3) / 6]\r",
      "\r",
      "[Stage 0:=======================================>                   (4 + 2) / 6]\r",
      "\r",
      "[Stage 0:=================================================>         (5 + 1) / 6]\r"
     ]
    },
    {
     "data": {
      "text/plain": [
       "10000×10000 Matrix{Float64}:\n",
       " 0.99996  0.00098559  -0.000830543  …  -0.000520665   0.00422904\n",
       " 0.0      0.999942    -0.00104453      -0.00494589    0.00050959\n",
       " 0.0      0.0          0.999963        -0.00129536    0.00216722\n",
       " 0.0      0.0          0.0             -0.00663755    0.000142521\n",
       " 0.0      0.0          0.0              0.0104731     0.000936687\n",
       " 0.0      0.0          0.0          …  -0.00202249   -0.000497824\n",
       " 0.0      0.0          0.0             -0.00550819    0.00283421\n",
       " 0.0      0.0          0.0             -0.00145102   -0.000761935\n",
       " 0.0      0.0          0.0              0.00287458   -0.0010154\n",
       " 0.0      0.0          0.0             -0.000450895  -0.00130722\n",
       " 0.0      0.0          0.0          …  -0.00101125    0.000451512\n",
       " 0.0      0.0          0.0              0.00590455   -0.00110266\n",
       " 0.0      0.0          0.0             -0.00274252   -0.000817142\n",
       " ⋮                                  ⋱                \n",
       " 0.0      0.0          0.0             -0.109458     -0.00866031\n",
       " 0.0      0.0          0.0              0.0158602     0.0203563\n",
       " 0.0      0.0          0.0          …   0.00745596    0.0184919\n",
       " 0.0      0.0          0.0              0.983906     -0.0122066\n",
       " 0.0      0.0          0.0              0.0155851     0.0197608\n",
       " 0.0      0.0          0.0              0.965104     -0.0159355\n",
       " 0.0      0.0          0.0             -0.129534      0.088277\n",
       " 0.0      0.0          0.0          …   0.622303      0.059004\n",
       " 0.0      0.0          0.0              0.965347     -0.0160028\n",
       " 0.0      0.0          0.0              0.0925609     0.999286\n",
       " 0.0      0.0          0.0              0.999972      0.0926374\n",
       " 0.0      0.0          0.0              0.0           0.999974"
      ]
     },
     "execution_count": 4,
     "metadata": {},
     "output_type": "execute_result"
    }
   ],
   "source": [
    "Sigma = bm[1:10000, 1:10000]"
   ]
  },
  {
   "cell_type": "markdown",
   "metadata": {},
   "source": [
    "Check if the given block is PSD by computing its eigenvalues"
   ]
  },
  {
   "cell_type": "code",
   "execution_count": 5,
   "metadata": {
    "collapsed": false
   },
   "outputs": [
    {
     "data": {
      "text/plain": [
       "10000-element Vector{Float64}:\n",
       "  -4.496303144059796e-15\n",
       "  -1.762987426134658e-15\n",
       "  -1.040030990442209e-15\n",
       "  -4.2089306816541705e-16\n",
       "  -3.960324780237165e-16\n",
       "  -3.9060196040323796e-16\n",
       "  -2.985734642577166e-16\n",
       "  -2.8601497287222336e-16\n",
       "  -2.5553650845256305e-16\n",
       "  -1.998130772222011e-16\n",
       "  -1.8449274904356797e-16\n",
       "  -1.7028015609869147e-16\n",
       "  -1.3192630645503314e-16\n",
       "   ⋮\n",
       " 116.57001725005479\n",
       " 124.37732317876345\n",
       " 125.11477060743002\n",
       " 135.80425399688727\n",
       " 142.93300594996916\n",
       " 149.24000792252738\n",
       " 161.47927858350278\n",
       " 181.82233513932786\n",
       " 228.3300216753156\n",
       " 235.961635959381\n",
       " 280.6540947869515\n",
       " 322.07381500507836"
      ]
     },
     "execution_count": 5,
     "metadata": {},
     "output_type": "execute_result"
    }
   ],
   "source": [
    "using LinearAlgebra\n",
    "eigvals(Symmetric(Sigma)) # Symmetric uses upper triangular portion of data"
   ]
  },
  {
   "cell_type": "markdown",
   "metadata": {
    "collapsed": true
   },
   "source": [
    "## Misc\n",
    "\n",
    "Some miscellaneous checks"
   ]
  },
  {
   "cell_type": "code",
   "execution_count": 3,
   "metadata": {
    "collapsed": false
   },
   "outputs": [],
   "source": [
    "using AWS: @service\n",
    "using AWSS3"
   ]
  },
  {
   "cell_type": "code",
   "execution_count": 4,
   "metadata": {
    "collapsed": false
   },
   "outputs": [
    {
     "data": {
      "text/plain": [
       "p\"s3://pan-ukb-us-east-1/ld_release/\""
      ]
     },
     "execution_count": 4,
     "metadata": {},
     "output_type": "execute_result"
    }
   ],
   "source": [
    "p = S3Path(\"s3://pan-ukb-us-east-1/ld_release/\")"
   ]
  },
  {
   "cell_type": "code",
   "execution_count": 5,
   "metadata": {
    "collapsed": false
   },
   "outputs": [
    {
     "data": {
      "text/plain": [
       "139-element Vector{String}:\n",
       " \"HM3.UKBB.AFR.qc.snplist.ht/\"\n",
       " \"HM3.UKBB.AMR.qc.snplist.ht/\"\n",
       " \"HM3.UKBB.CSA.qc.snplist.ht/\"\n",
       " \"HM3.UKBB.EAS.qc.snplist.ht/\"\n",
       " \"HM3.UKBB.EUR.qc.snplist.ht/\"\n",
       " \"HM3.UKBB.MID.qc.snplist.ht/\"\n",
       " \"UKBB.AFR.25LDMS.l2.M\"\n",
       " \"UKBB.AFR.25LDMS.l2.M_5_50\"\n",
       " \"UKBB.AFR.25LDMS.l2.annot.gz\"\n",
       " \"UKBB.AFR.25LDMS.l2.ldscore.gz\"\n",
       " \"UKBB.AFR.25LDMS.ldscore.ht/\"\n",
       " \"UKBB.AFR.25LDMS.rsid.l2.annot.gz\"\n",
       " \"UKBB.AFR.25LDMS.rsid.l2.ldscore.gz\"\n",
       " ⋮\n",
       " \"UKBB.MID.8LDMS.l2.ldscore.gz\"\n",
       " \"UKBB.MID.8LDMS.ldscore.ht/\"\n",
       " \"UKBB.MID.8LDMS.rsid.l2.annot.gz\"\n",
       " \"UKBB.MID.8LDMS.rsid.l2.ldscore.gz\"\n",
       " \"UKBB.MID.l2.M\"\n",
       " \"UKBB.MID.l2.M_5_50\"\n",
       " \"UKBB.MID.l2.ldscore.gz\"\n",
       " \"UKBB.MID.ldadj.bm/\"\n",
       " \"UKBB.MID.ldadj.variant.b38.ht/\"\n",
       " \"UKBB.MID.ldadj.variant.ht/\"\n",
       " \"UKBB.MID.ldscore.ht/\"\n",
       " \"UKBB.MID.rsid.l2.ldscore.gz\""
      ]
     },
     "execution_count": 5,
     "metadata": {},
     "output_type": "execute_result"
    }
   ],
   "source": [
    "readdir(p)"
   ]
  },
  {
   "cell_type": "code",
   "execution_count": 7,
   "metadata": {
    "collapsed": false
   },
   "outputs": [
    {
     "data": {
      "text/plain": [
       "Status(\n",
       "  device = 0,\n",
       "  inode = 0,\n",
       "  mode = -rw-rw-rw-,\n",
       "  nlink = 0,\n",
       "  uid = 501 (biona001),\n",
       "  gid = 20 (staff),\n",
       "  rdev = 0,\n",
       "  size = 0 (0.0),\n",
       "  blksize = 4096 (4.0K),\n",
       "  blocks = 0,\n",
       "  mtime = 0000-01-01T00:00:00,\n",
       "  ctime = 0000-01-01T00:00:00,\n",
       ")"
      ]
     },
     "execution_count": 7,
     "metadata": {},
     "output_type": "execute_result"
    }
   ],
   "source": [
    "file = joinpath(p, \"UKBB.EUR.ldadj.bm\")\n",
    "stat(file)"
   ]
  },
  {
   "cell_type": "markdown",
   "metadata": {},
   "source": [
    "## List all files available\n",
    "\n",
    "There are 124283 objects, totaling 14.1T of data."
   ]
  },
  {
   "cell_type": "code",
   "execution_count": null,
   "metadata": {
    "collapsed": true
   },
   "outputs": [],
   "source": [
    "run(`aws s3 ls --summarize --human-readable --recursive s3://pan-ukb-us-east-1/ld_release/UKBB.EUR.ldadj.bm`)"
   ]
  },
  {
   "cell_type": "code",
   "execution_count": null,
   "metadata": {
    "collapsed": true
   },
   "outputs": [],
   "source": []
  }
 ],
 "metadata": {
  "kernelspec": {
   "display_name": "Julia 1.7.3",
   "language": "julia",
   "name": "julia-1.7"
  },
  "language_info": {
   "file_extension": ".jl",
   "mimetype": "application/julia",
   "name": "julia",
   "version": "1.7.3"
  }
 },
 "nbformat": 4,
 "nbformat_minor": 2
}
