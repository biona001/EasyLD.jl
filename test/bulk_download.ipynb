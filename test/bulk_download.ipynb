{
 "cells": [
  {
   "cell_type": "markdown",
   "metadata": {},
   "source": [
    "# Download all EUR LD matrices on Sherlock\n",
    "\n",
    "Each job will download 5000 files, which should take roughly 30 hours. Since there are 124281 files, we will submit 25 jobs."
   ]
  },
  {
   "cell_type": "code",
   "execution_count": null,
   "metadata": {
    "collapsed": true
   },
   "outputs": [],
   "source": [
    "# submission script\n",
    "function run_repeats()\n",
    "    for start_from in 1:5000:125000\n",
    "        # create .sh file to submit jobs\n",
    "        filename = \"submit.sh\"\n",
    "        mem = 10\n",
    "        open(filename, \"w\") do io\n",
    "            println(io, \"#!/bin/bash\")\n",
    "            println(io, \"#\")\n",
    "            println(io, \"#SBATCH --job-name=pan-ukbb\")\n",
    "            println(io, \"#\")\n",
    "            println(io, \"#SBATCH --time=48:00:00\")\n",
    "            println(io, \"#SBATCH --cpus-per-task=1\")\n",
    "            println(io, \"#SBATCH --mem-per-cpu=$(mem)G\")\n",
    "            println(io, \"#SBATCH --partition=normal,candes\")\n",
    "            println(io, \"\")\n",
    "            println(io, \"#save job info on joblog:\")\n",
    "            println(io, \"echo \\\"Job \\$JOB_ID started on:   \\\" `hostname -s`\")\n",
    "            println(io, \"echo \\\"Job \\$JOB_ID started on:   \\\" `date `\")\n",
    "            println(io, \"\")\n",
    "            println(io, \"# load the job environment:\")\n",
    "            println(io, \"module load java/11.0.11\")\n",
    "            println(io, \"module load python/3.9.0\")\n",
    "            println(io, \"module load julia/1.6.2\")\n",
    "            println(io, \"export JULIA_DEPOT_PATH=\\\"/scratch/users/bbchu/.julia\\\"\")\n",
    "            println(io, \"\")\n",
    "            println(io, \"# run code\")\n",
    "            println(io, \"echo 'julia download_ukbb.jl start_from $start_from'\")\n",
    "            println(io, \"julia download_ukbb.jl $start_from\")\n",
    "            println(io, \"\")\n",
    "            println(io, \"#echo job info on joblog:\")\n",
    "            println(io, \"echo \\\"Job \\$JOB_ID ended on:   \\\" `hostname -s`\")\n",
    "            println(io, \"echo \\\"Job \\$JOB_ID ended on:   \\\" `date `\")\n",
    "            println(io, \"#echo \\\" \\\"\")\n",
    "        end\n",
    "        # submit job\n",
    "        run(`sbatch $filename`)\n",
    "        rm(filename, force=true)\n",
    "    end\n",
    "end\n",
    "run_repeats()"
   ]
  },
  {
   "cell_type": "code",
   "execution_count": null,
   "metadata": {
    "collapsed": true
   },
   "outputs": [],
   "source": [
    "# download script\n",
    "# usage: julia download_ukbb.jl 1\n",
    "\n",
    "using EasyLD\n",
    "\n",
    "population = \"EUR\"\n",
    "outdir = pwd()\n",
    "start_from = parse(Int, ARGS[1])\n",
    "num_files = 5000\n",
    "\n",
    "download_ukb_LD_matrices(population, outdir, start_from=start_from, num_files=num_files)"
   ]
  }
 ],
 "metadata": {
  "kernelspec": {
   "display_name": "Julia 1.7.3",
   "language": "julia",
   "name": "julia-1.7"
  },
  "language_info": {
   "file_extension": ".jl",
   "mimetype": "application/julia",
   "name": "julia",
   "version": "1.7.3"
  }
 },
 "nbformat": 4,
 "nbformat_minor": 2
}
