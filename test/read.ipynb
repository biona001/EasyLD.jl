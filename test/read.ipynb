{
 "cells": [
  {
   "cell_type": "markdown",
   "metadata": {},
   "source": [
    "# Try reading gnomAD data into memory"
   ]
  },
  {
   "cell_type": "code",
   "execution_count": 4,
   "metadata": {
    "collapsed": false
   },
   "outputs": [
    {
     "name": "stderr",
     "output_type": "stream",
     "text": [
      "┌ Info: Precompiling gnomAD [a5d00db5-5f0a-49b9-aaff-6f4121a13ee1]\n",
      "└ @ Base loading.jl:1423\n"
     ]
    }
   ],
   "source": [
    "using Revise\n",
    "using gnomAD"
   ]
  },
  {
   "cell_type": "code",
   "execution_count": 5,
   "metadata": {
    "collapsed": false
   },
   "outputs": [],
   "source": [
    "data = \"/Users/biona001/.julia/dev/gnomAD/data/gnomad.genomes.r2.1.1.nfe.common.adj.ld.bm\"\n",
    "bm = hail_block_matrix(data);"
   ]
  },
  {
   "cell_type": "code",
   "execution_count": 16,
   "metadata": {
    "collapsed": false
   },
   "outputs": [
    {
     "data": {
      "text/plain": [
       "0.9999999999999998"
      ]
     },
     "execution_count": 16,
     "metadata": {},
     "output_type": "execute_result"
    }
   ],
   "source": [
    "bm[1, 1]"
   ]
  },
  {
   "cell_type": "code",
   "execution_count": 6,
   "metadata": {
    "collapsed": false
   },
   "outputs": [
    {
     "name": "stdout",
     "output_type": "stream",
     "text": [
      "2023-03-01 16:39:40.545 WARN  NativeCodeLoader:60 - Unable to load native-hadoop library for your platform... using builtin-java classes where applicable\n",
      " 21.392457 seconds (11.79 k allocations: 673.166 KiB, 0.09% compilation time)\n"
     ]
    },
    {
     "name": "stderr",
     "output_type": "stream",
     "text": [
      "Initializing Hail with default parameters...\n",
      "Setting default log level to \"WARN\".\n",
      "To adjust logging level use sc.setLogLevel(newLevel). For SparkR, use setLogLevel(newLevel).\n",
      "Running on Apache Spark version 3.1.3\n",
      "SparkUI available at http://dn52ecqn.sunet:4040\n",
      "Welcome to\n",
      "     __  __     <>__\n",
      "    / /_/ /__  __/ /\n",
      "   / __  / _ `/ / /\n",
      "  /_/ /_/\\_,_/_/_/   version 0.2.109-b71b065e4bb6\n",
      "LOGGING: writing to /Users/biona001/.julia/dev/gnomAD/test/hail-20230301-1639-0.2.109-b71b065e4bb6.log\n",
      "\r",
      "[Stage 0:>                                                          (0 + 1) / 1]\r"
     ]
    },
    {
     "data": {
      "text/plain": [
       "10×10 Matrix{Float64}:\n",
       " 1.0  0.0326361  -0.0181891   0.0166341   …   0.0179389   -0.00994853\n",
       " 0.0  1.0        -0.00041394  0.00540477      0.00211069   0.00171555\n",
       " 0.0  0.0         1.0         0.0177243       0.0         -0.000284646\n",
       " 0.0  0.0         0.0         1.0             0.00627614   0.00131174\n",
       " 0.0  0.0         0.0         0.0            -0.0045831    0.00119736\n",
       " 0.0  0.0         0.0         0.0         …   0.0145138    0.00530853\n",
       " 0.0  0.0         0.0         0.0             0.00089687   0.00328037\n",
       " 0.0  0.0         0.0         0.0             0.123663     0.377178\n",
       " 0.0  0.0         0.0         0.0             1.0          0.00725709\n",
       " 0.0  0.0         0.0         0.0             0.0          1.0"
      ]
     },
     "execution_count": 6,
     "metadata": {},
     "output_type": "execute_result"
    }
   ],
   "source": [
    "@time begin\n",
    "    out = zeros(10, 10)\n",
    "    for i in 1:10, j in 1:10\n",
    "        out[i, j] = bm[i, j]\n",
    "    end\n",
    "end\n",
    "out"
   ]
  },
  {
   "cell_type": "code",
   "execution_count": 18,
   "metadata": {
    "collapsed": false
   },
   "outputs": [
    {
     "name": "stdout",
     "output_type": "stream",
     "text": [
      "  0.471002 seconds (67 allocations: 7.632 MiB)\n"
     ]
    },
    {
     "data": {
      "text/plain": [
       "1000×1000 Matrix{Float64}:\n",
       " 1.0  0.0326361  -0.0181891   0.0166341   …   0.00767459    0.0104462\n",
       " 0.0  1.0        -0.00041394  0.00540477     -0.10473      -0.00184638\n",
       " 0.0  0.0         1.0         0.0177243      -0.000167982  -0.00929269\n",
       " 0.0  0.0         0.0         1.0            -2.1684e-19   -0.00329412\n",
       " 0.0  0.0         0.0         0.0             1.2618e-5    -0.000859109\n",
       " 0.0  0.0         0.0         0.0         …   2.98156e-19   0.0507852\n",
       " 0.0  0.0         0.0         0.0             2.88077e-5   -0.0117684\n",
       " 0.0  0.0         0.0         0.0            -0.000116338  -0.0104104\n",
       " 0.0  0.0         0.0         0.0             2.67669e-5   -0.00728978\n",
       " 0.0  0.0         0.0         0.0             2.331e-5     -0.00253932\n",
       " 0.0  0.0         0.0         0.0         …   0.00150567   -0.00353229\n",
       " 0.0  0.0         0.0         0.0             0.00509611    0.0109818\n",
       " 0.0  0.0         0.0         0.0            -0.0126056     0.0126193\n",
       " ⋮                                        ⋱                \n",
       " 0.0  0.0         0.0         0.0            -0.0182409    -0.0106091\n",
       " 0.0  0.0         0.0         0.0            -0.00116818    0.00235988\n",
       " 0.0  0.0         0.0         0.0         …  -0.00204165   -0.0130619\n",
       " 0.0  0.0         0.0         0.0             0.00840741   -0.00771116\n",
       " 0.0  0.0         0.0         0.0             0.983214      0.00734632\n",
       " 0.0  0.0         0.0         0.0             0.0156904    -0.00610452\n",
       " 0.0  0.0         0.0         0.0             0.00396482   -0.0110234\n",
       " 0.0  0.0         0.0         0.0         …  -0.00290343   -0.0109804\n",
       " 0.0  0.0         0.0         0.0             0.00723443   -0.013669\n",
       " 0.0  0.0         0.0         0.0             0.99998       0.00738016\n",
       " 0.0  0.0         0.0         0.0             1.0           0.00737766\n",
       " 0.0  0.0         0.0         0.0             0.0           1.0"
      ]
     },
     "execution_count": 18,
     "metadata": {},
     "output_type": "execute_result"
    }
   ],
   "source": [
    "@time bm[1:1000, 1:1000]"
   ]
  },
  {
   "cell_type": "code",
   "execution_count": 19,
   "metadata": {
    "collapsed": false
   },
   "outputs": [
    {
     "name": "stdout",
     "output_type": "stream",
     "text": [
      " 22.868453 seconds (61.51 k allocations: 3.108 MiB, 0.31% compilation time)\n"
     ]
    },
    {
     "data": {
      "text/plain": [
       "3×50 Matrix{Float64}:\n",
       " 1.0  -0.0181891   0.00802797  -0.0421512  …  0.0143534     0.0172358\n",
       " 0.0  -0.00041394  0.00232164  -0.0112066     5.39059e-5   -0.0188801\n",
       " 0.0   1.0         0.0         -0.0282011     0.000733417  -0.0277042"
      ]
     },
     "execution_count": 19,
     "metadata": {},
     "output_type": "execute_result"
    }
   ],
   "source": [
    "# indexing non-contiguous region is slow\n",
    "@time bm[1:3, 1:2:100]"
   ]
  },
  {
   "cell_type": "code",
   "execution_count": null,
   "metadata": {
    "collapsed": true
   },
   "outputs": [],
   "source": []
  },
  {
   "cell_type": "code",
   "execution_count": null,
   "metadata": {
    "collapsed": true
   },
   "outputs": [],
   "source": []
  },
  {
   "cell_type": "code",
   "execution_count": null,
   "metadata": {
    "collapsed": true
   },
   "outputs": [],
   "source": []
  },
  {
   "cell_type": "code",
   "execution_count": 44,
   "metadata": {
    "collapsed": false
   },
   "outputs": [
    {
     "name": "stdout",
     "output_type": "stream",
     "text": [
      "  0.827913 seconds (33.87 k allocations: 1.972 MiB, 1.93% compilation time)\n"
     ]
    },
    {
     "data": {
      "text/plain": [
       "100×100 Matrix{Float64}:\n",
       " 1.0  0.0326361  -0.0181891   0.0166341   …   0.0172358    -0.00857776\n",
       " 0.0  1.0        -0.00041394  0.00540477     -0.0188801     0.05925\n",
       " 0.0  0.0         1.0         0.0177243      -0.0277042    -0.000268512\n",
       " 0.0  0.0         0.0         1.0            -0.000468342  -0.000966708\n",
       " 0.0  0.0         0.0         0.0            -7.47553e-5   -0.00298802\n",
       " 0.0  0.0         0.0         0.0         …   0.00207735    0.00152017\n",
       " 0.0  0.0         0.0         0.0             0.00256425    0.00136302\n",
       " 0.0  0.0         0.0         0.0             0.0137416    -0.000680087\n",
       " 0.0  0.0         0.0         0.0            -0.020671      0.000342287\n",
       " 0.0  0.0         0.0         0.0             0.00195264   -0.00451867\n",
       " 0.0  0.0         0.0         0.0         …   0.0018285    -0.00406988\n",
       " 0.0  0.0         0.0         0.0             0.0152337     0.0100539\n",
       " 0.0  0.0         0.0         0.0             0.0193       -0.0136828\n",
       " ⋮                                        ⋱                \n",
       " 0.0  0.0         0.0         0.0            -0.0164688    -0.014087\n",
       " 0.0  0.0         0.0         0.0             0.00237332   -0.0076453\n",
       " 0.0  0.0         0.0         0.0         …   0.0307489     0.00414244\n",
       " 0.0  0.0         0.0         0.0            -0.0163064    -0.006019\n",
       " 0.0  0.0         0.0         0.0            -0.0133323    -0.0457871\n",
       " 0.0  0.0         0.0         0.0            -0.00121495   -0.0130313\n",
       " 0.0  0.0         0.0         0.0            -0.0107884    -0.0132339\n",
       " 0.0  0.0         0.0         0.0         …   0.0466568     0.00123582\n",
       " 0.0  0.0         0.0         0.0             0.065021      0.00380187\n",
       " 0.0  0.0         0.0         0.0             0.086153     -0.0106022\n",
       " 0.0  0.0         0.0         0.0             1.0          -0.00980493\n",
       " 0.0  0.0         0.0         0.0             0.0           1.0"
      ]
     },
     "execution_count": 44,
     "metadata": {},
     "output_type": "execute_result"
    }
   ],
   "source": [
    "using PyCall\n",
    "py\"\"\"\n",
    "from hail.linalg import BlockMatrix\n",
    "import numpy as np\n",
    "def convert(bm, range_start, range_end):\n",
    "    return bm[range_start:range_end, range_start:range_end].to_numpy()\n",
    "\"\"\"\n",
    "@time py\"convert\"(bm.bm, 0, 100)"
   ]
  },
  {
   "cell_type": "markdown",
   "metadata": {},
   "source": [
    "### Python code"
   ]
  },
  {
   "cell_type": "code",
   "execution_count": null,
   "metadata": {
    "collapsed": true
   },
   "outputs": [],
   "source": [
    "from hail.linalg import BlockMatrix\n",
    "import numpy as np\n",
    "bm_files = \"gnomad.genomes.r2.1.1.nfe.common.adj.ld.bm\"\n",
    "bm = BlockMatrix.read(bm_files)\n",
    "\n",
    "# get a slice fast\n",
    "x = bm[0:100, 0:100]\n",
    "X = x.to_numpy()\n",
    "X"
   ]
  },
  {
   "cell_type": "code",
   "execution_count": null,
   "metadata": {
    "collapsed": true
   },
   "outputs": [],
   "source": [
    "def convert(bm, range1, range2)\n",
    "    return bm[range1, range2].to_numpy()"
   ]
  },
  {
   "cell_type": "code",
   "execution_count": null,
   "metadata": {
    "collapsed": true
   },
   "outputs": [],
   "source": []
  },
  {
   "cell_type": "code",
   "execution_count": null,
   "metadata": {
    "collapsed": true
   },
   "outputs": [],
   "source": []
  }
 ],
 "metadata": {
  "kernelspec": {
   "display_name": "Julia 1.7.3",
   "language": "julia",
   "name": "julia-1.7"
  },
  "language_info": {
   "file_extension": ".jl",
   "mimetype": "application/julia",
   "name": "julia",
   "version": "1.7.3"
  }
 },
 "nbformat": 4,
 "nbformat_minor": 2
}
