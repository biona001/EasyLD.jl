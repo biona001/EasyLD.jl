{
 "cells": [
  {
   "cell_type": "markdown",
   "metadata": {},
   "source": [
    "# Try reading gnomAD data into memory"
   ]
  },
  {
   "cell_type": "code",
   "execution_count": 4,
   "metadata": {
    "collapsed": false
   },
   "outputs": [
    {
     "name": "stderr",
     "output_type": "stream",
     "text": [
      "┌ Info: Precompiling gnomAD [a5d00db5-5f0a-49b9-aaff-6f4121a13ee1]\n",
      "└ @ Base loading.jl:1423\n"
     ]
    }
   ],
   "source": [
    "using Revise\n",
    "using gnomAD"
   ]
  },
  {
   "cell_type": "code",
   "execution_count": 5,
   "metadata": {
    "collapsed": false
   },
   "outputs": [],
   "source": [
    "data = \"/Users/biona001/.julia/dev/gnomAD/data/gnomad.genomes.r2.1.1.nfe.common.adj.ld.bm\"\n",
    "bm = hail_block_matrix(data);"
   ]
  },
  {
   "cell_type": "code",
   "execution_count": 6,
   "metadata": {
    "collapsed": false
   },
   "outputs": [
    {
     "name": "stdout",
     "output_type": "stream",
     "text": [
      "2023-03-01 16:39:40.545 WARN  NativeCodeLoader:60 - Unable to load native-hadoop library for your platform... using builtin-java classes where applicable\n",
      " 21.392457 seconds (11.79 k allocations: 673.166 KiB, 0.09% compilation time)\n"
     ]
    },
    {
     "name": "stderr",
     "output_type": "stream",
     "text": [
      "Initializing Hail with default parameters...\n",
      "Setting default log level to \"WARN\".\n",
      "To adjust logging level use sc.setLogLevel(newLevel). For SparkR, use setLogLevel(newLevel).\n",
      "Running on Apache Spark version 3.1.3\n",
      "SparkUI available at http://dn52ecqn.sunet:4040\n",
      "Welcome to\n",
      "     __  __     <>__\n",
      "    / /_/ /__  __/ /\n",
      "   / __  / _ `/ / /\n",
      "  /_/ /_/\\_,_/_/_/   version 0.2.109-b71b065e4bb6\n",
      "LOGGING: writing to /Users/biona001/.julia/dev/gnomAD/test/hail-20230301-1639-0.2.109-b71b065e4bb6.log\n",
      "\r",
      "[Stage 0:>                                                          (0 + 1) / 1]\r"
     ]
    },
    {
     "data": {
      "text/plain": [
       "10×10 Matrix{Float64}:\n",
       " 1.0  0.0326361  -0.0181891   0.0166341   …   0.0179389   -0.00994853\n",
       " 0.0  1.0        -0.00041394  0.00540477      0.00211069   0.00171555\n",
       " 0.0  0.0         1.0         0.0177243       0.0         -0.000284646\n",
       " 0.0  0.0         0.0         1.0             0.00627614   0.00131174\n",
       " 0.0  0.0         0.0         0.0            -0.0045831    0.00119736\n",
       " 0.0  0.0         0.0         0.0         …   0.0145138    0.00530853\n",
       " 0.0  0.0         0.0         0.0             0.00089687   0.00328037\n",
       " 0.0  0.0         0.0         0.0             0.123663     0.377178\n",
       " 0.0  0.0         0.0         0.0             1.0          0.00725709\n",
       " 0.0  0.0         0.0         0.0             0.0          1.0"
      ]
     },
     "execution_count": 6,
     "metadata": {},
     "output_type": "execute_result"
    }
   ],
   "source": [
    "@time begin\n",
    "    out = zeros(10, 10)\n",
    "    for i in 1:10, j in 1:10\n",
    "        out[i, j] = bm[i, j]\n",
    "    end\n",
    "end\n",
    "out"
   ]
  },
  {
   "cell_type": "code",
   "execution_count": 12,
   "metadata": {
    "collapsed": false
   },
   "outputs": [
    {
     "name": "stdout",
     "output_type": "stream",
     "text": [
      "  0.513938 seconds (15.47 k allocations: 4.677 MiB, 2.18% compilation time)\n"
     ]
    },
    {
     "data": {
      "text/plain": [
       "1000×500 Matrix{Float64}:\n",
       " 1.0  0.0326361  -0.0181891   0.0166341   …   0.10396      -0.00442173\n",
       " 0.0  1.0        -0.00041394  0.00540477      0.00714046    0.000179424\n",
       " 0.0  0.0         1.0         0.0177243      -0.00255837    0.00418069\n",
       " 0.0  0.0         0.0         1.0            -0.000987178   0.0\n",
       " 0.0  0.0         0.0         0.0             0.0117148    -0.000825575\n",
       " 0.0  0.0         0.0         0.0         …  -0.00810211    0.0\n",
       " 0.0  0.0         0.0         0.0            -0.0360996    -0.00376967\n",
       " 0.0  0.0         0.0         0.0             0.00271577    0.00468353\n",
       " 0.0  0.0         0.0         0.0            -0.00977714    0.0032796\n",
       " 0.0  0.0         0.0         0.0            -0.0106557    -0.000525512\n",
       " 0.0  0.0         0.0         0.0         …  -0.0127855    -0.000778327\n",
       " 0.0  0.0         0.0         0.0             0.021351      0.00109237\n",
       " 0.0  0.0         0.0         0.0             0.055791     -0.00806577\n",
       " ⋮                                        ⋱                \n",
       " 0.0  0.0         0.0         0.0             0.0           0.0\n",
       " 0.0  0.0         0.0         0.0             0.0           0.0\n",
       " 0.0  0.0         0.0         0.0         …   0.0           0.0\n",
       " 0.0  0.0         0.0         0.0             0.0           0.0\n",
       " 0.0  0.0         0.0         0.0             0.0           0.0\n",
       " 0.0  0.0         0.0         0.0             0.0           0.0\n",
       " 0.0  0.0         0.0         0.0             0.0           0.0\n",
       " 0.0  0.0         0.0         0.0         …   0.0           0.0\n",
       " 0.0  0.0         0.0         0.0             0.0           0.0\n",
       " 0.0  0.0         0.0         0.0             0.0           0.0\n",
       " 0.0  0.0         0.0         0.0             0.0           0.0\n",
       " 0.0  0.0         0.0         0.0             0.0           0.0"
      ]
     },
     "execution_count": 12,
     "metadata": {},
     "output_type": "execute_result"
    }
   ],
   "source": [
    "@time bm[1:1000, 1:500]"
   ]
  },
  {
   "cell_type": "code",
   "execution_count": 15,
   "metadata": {
    "collapsed": false
   },
   "outputs": [
    {
     "name": "stdout",
     "output_type": "stream",
     "text": [
      "  7.688574 seconds (269 allocations: 4.719 KiB)\n"
     ]
    },
    {
     "data": {
      "text/plain": [
       "50-element Vector{Float64}:\n",
       "  0.9999999999999998\n",
       " -0.018189111101561392\n",
       "  0.008027968930178427\n",
       " -0.04215117028151553\n",
       "  0.017938860182932757\n",
       " -0.0016337026399970787\n",
       "  0.10486066844855962\n",
       "  0.025560991521727777\n",
       " -0.010546800431644462\n",
       " -0.03985325918324301\n",
       " -0.0010861133958637733\n",
       "  0.0007699733072654338\n",
       "  0.001359820828733087\n",
       "  ⋮\n",
       "  0.03061218870032942\n",
       " -0.0036389897468388677\n",
       "  0.0070613701455110875\n",
       "  0.010107017312441766\n",
       "  0.009773613328151184\n",
       " -0.0006180327700999952\n",
       " -0.007792310263082733\n",
       " -0.001076654549804239\n",
       "  0.009592268611895462\n",
       "  0.008936790685499503\n",
       "  0.014353376620577216\n",
       "  0.017235755053720745"
      ]
     },
     "execution_count": 15,
     "metadata": {},
     "output_type": "execute_result"
    }
   ],
   "source": [
    "# indexing non-contiguous region is slow\n",
    "@time bm[1, 1:2:100]"
   ]
  },
  {
   "cell_type": "code",
   "execution_count": null,
   "metadata": {
    "collapsed": true
   },
   "outputs": [],
   "source": []
  },
  {
   "cell_type": "code",
   "execution_count": null,
   "metadata": {
    "collapsed": true
   },
   "outputs": [],
   "source": []
  },
  {
   "cell_type": "code",
   "execution_count": null,
   "metadata": {
    "collapsed": true
   },
   "outputs": [],
   "source": []
  },
  {
   "cell_type": "code",
   "execution_count": 44,
   "metadata": {
    "collapsed": false
   },
   "outputs": [
    {
     "name": "stdout",
     "output_type": "stream",
     "text": [
      "  0.827913 seconds (33.87 k allocations: 1.972 MiB, 1.93% compilation time)\n"
     ]
    },
    {
     "data": {
      "text/plain": [
       "100×100 Matrix{Float64}:\n",
       " 1.0  0.0326361  -0.0181891   0.0166341   …   0.0172358    -0.00857776\n",
       " 0.0  1.0        -0.00041394  0.00540477     -0.0188801     0.05925\n",
       " 0.0  0.0         1.0         0.0177243      -0.0277042    -0.000268512\n",
       " 0.0  0.0         0.0         1.0            -0.000468342  -0.000966708\n",
       " 0.0  0.0         0.0         0.0            -7.47553e-5   -0.00298802\n",
       " 0.0  0.0         0.0         0.0         …   0.00207735    0.00152017\n",
       " 0.0  0.0         0.0         0.0             0.00256425    0.00136302\n",
       " 0.0  0.0         0.0         0.0             0.0137416    -0.000680087\n",
       " 0.0  0.0         0.0         0.0            -0.020671      0.000342287\n",
       " 0.0  0.0         0.0         0.0             0.00195264   -0.00451867\n",
       " 0.0  0.0         0.0         0.0         …   0.0018285    -0.00406988\n",
       " 0.0  0.0         0.0         0.0             0.0152337     0.0100539\n",
       " 0.0  0.0         0.0         0.0             0.0193       -0.0136828\n",
       " ⋮                                        ⋱                \n",
       " 0.0  0.0         0.0         0.0            -0.0164688    -0.014087\n",
       " 0.0  0.0         0.0         0.0             0.00237332   -0.0076453\n",
       " 0.0  0.0         0.0         0.0         …   0.0307489     0.00414244\n",
       " 0.0  0.0         0.0         0.0            -0.0163064    -0.006019\n",
       " 0.0  0.0         0.0         0.0            -0.0133323    -0.0457871\n",
       " 0.0  0.0         0.0         0.0            -0.00121495   -0.0130313\n",
       " 0.0  0.0         0.0         0.0            -0.0107884    -0.0132339\n",
       " 0.0  0.0         0.0         0.0         …   0.0466568     0.00123582\n",
       " 0.0  0.0         0.0         0.0             0.065021      0.00380187\n",
       " 0.0  0.0         0.0         0.0             0.086153     -0.0106022\n",
       " 0.0  0.0         0.0         0.0             1.0          -0.00980493\n",
       " 0.0  0.0         0.0         0.0             0.0           1.0"
      ]
     },
     "execution_count": 44,
     "metadata": {},
     "output_type": "execute_result"
    }
   ],
   "source": [
    "using PyCall\n",
    "py\"\"\"\n",
    "from hail.linalg import BlockMatrix\n",
    "import numpy as np\n",
    "def convert(bm, range_start, range_end):\n",
    "    return bm[range_start:range_end, range_start:range_end].to_numpy()\n",
    "\"\"\"\n",
    "@time py\"convert\"(bm.bm, 0, 100)"
   ]
  },
  {
   "cell_type": "markdown",
   "metadata": {},
   "source": [
    "### Python code"
   ]
  },
  {
   "cell_type": "code",
   "execution_count": null,
   "metadata": {
    "collapsed": true
   },
   "outputs": [],
   "source": [
    "from hail.linalg import BlockMatrix\n",
    "import numpy as np\n",
    "bm_files = \"gnomad.genomes.r2.1.1.nfe.common.adj.ld.bm\"\n",
    "bm = BlockMatrix.read(bm_files)\n",
    "\n",
    "# get a slice fast\n",
    "x = bm[0:100, 0:100]\n",
    "X = x.to_numpy()\n",
    "X"
   ]
  },
  {
   "cell_type": "code",
   "execution_count": null,
   "metadata": {
    "collapsed": true
   },
   "outputs": [],
   "source": [
    "def convert(bm, range1, range2)\n",
    "    return bm[range1, range2].to_numpy()"
   ]
  },
  {
   "cell_type": "code",
   "execution_count": null,
   "metadata": {
    "collapsed": true
   },
   "outputs": [],
   "source": []
  },
  {
   "cell_type": "code",
   "execution_count": null,
   "metadata": {
    "collapsed": true
   },
   "outputs": [],
   "source": []
  }
 ],
 "metadata": {
  "kernelspec": {
   "display_name": "Julia 1.7.3",
   "language": "julia",
   "name": "julia-1.7"
  },
  "language_info": {
   "file_extension": ".jl",
   "mimetype": "application/julia",
   "name": "julia",
   "version": "1.7.3"
  }
 },
 "nbformat": 4,
 "nbformat_minor": 2
}
