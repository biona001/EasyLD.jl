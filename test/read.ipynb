{
 "cells": [
  {
   "cell_type": "markdown",
   "metadata": {},
   "source": [
    "# Try reading gnomAD/PanUKBB data into memory"
   ]
  },
  {
   "cell_type": "code",
   "execution_count": 1,
   "metadata": {
    "collapsed": false
   },
   "outputs": [
    {
     "name": "stderr",
     "output_type": "stream",
     "text": [
      "┌ Info: Precompiling EasyLD [a5d00db5-5f0a-49b9-aaff-6f4121a13ee1]\n",
      "└ @ Base loading.jl:1423\n",
      "\u001b[33m\u001b[1m┌ \u001b[22m\u001b[39m\u001b[33m\u001b[1mWarning: \u001b[22m\u001b[39mPackage EasyLD does not have LinearAlgebra in its dependencies:\n",
      "\u001b[33m\u001b[1m│ \u001b[22m\u001b[39m- If you have EasyLD checked out for development and have\n",
      "\u001b[33m\u001b[1m│ \u001b[22m\u001b[39m  added LinearAlgebra as a dependency but haven't updated your primary\n",
      "\u001b[33m\u001b[1m│ \u001b[22m\u001b[39m  environment's manifest file, try `Pkg.resolve()`.\n",
      "\u001b[33m\u001b[1m│ \u001b[22m\u001b[39m- Otherwise you may need to report an issue with EasyLD\n",
      "\u001b[33m\u001b[1m└ \u001b[22m\u001b[39mLoading LinearAlgebra into EasyLD from project dependency, future warnings for EasyLD are suppressed.\n"
     ]
    }
   ],
   "source": [
    "using Revise\n",
    "using EasyLD"
   ]
  },
  {
   "cell_type": "code",
   "execution_count": 2,
   "metadata": {
    "collapsed": false
   },
   "outputs": [],
   "source": [
    "datadir = \"/Users/biona001/.julia/dev/EasyLD/data\"\n",
    "bm_file = joinpath(datadir, \"UKBB.EUR.ldadj.bm\")\n",
    "ht_file = joinpath(datadir, \"UKBB.EUR.ldadj.variant.ht\")\n",
    "bm = hail_block_matrix(bm_file, ht_file);"
   ]
  },
  {
   "cell_type": "markdown",
   "metadata": {},
   "source": [
    "Size of matrix"
   ]
  },
  {
   "cell_type": "code",
   "execution_count": 3,
   "metadata": {
    "collapsed": false
   },
   "outputs": [
    {
     "name": "stdout",
     "output_type": "stream",
     "text": [
      "2023-04-02 07:42:56.740 WARN  Utils:69 - Your hostname, Benjamins-MacBook-Pro-2.local resolves to a loopback address: 127.0.0.1; using 10.0.0.86 instead (on interface en0)\n",
      "2023-04-02 07:42:56.751 WARN  Utils:69 - Set SPARK_LOCAL_IP if you need to bind to another address\n",
      "2023-04-02 07:42:57.380 WARN  NativeCodeLoader:60 - Unable to load native-hadoop library for your platform... using builtin-java classes where applicable\n"
     ]
    },
    {
     "name": "stderr",
     "output_type": "stream",
     "text": [
      "Initializing Hail with default parameters...\n",
      "Picked up _JAVA_OPTIONS: -Xmx16g\n",
      "Picked up _JAVA_OPTIONS: -Xmx16g\n",
      "Setting default log level to \"WARN\".\n",
      "To adjust logging level use sc.setLogLevel(newLevel). For SparkR, use setLogLevel(newLevel).\n",
      "Running on Apache Spark version 3.1.3\n",
      "SparkUI available at http://10.0.0.86:4040\n",
      "Welcome to\n",
      "     __  __     <>__\n",
      "    / /_/ /__  __/ /\n",
      "   / __  / _ `/ / /\n",
      "  /_/ /_/\\_,_/_/_/   version 0.2.109-b71b065e4bb6\n",
      "LOGGING: writing to /Users/biona001/.julia/dev/EasyLD/test/hail-20230402-0742-0.2.109-b71b065e4bb6.log\n"
     ]
    },
    {
     "data": {
      "text/plain": [
       "(23960350, 23960350)"
      ]
     },
     "execution_count": 3,
     "metadata": {},
     "output_type": "execute_result"
    }
   ],
   "source": [
    "size(bm)"
   ]
  },
  {
   "cell_type": "markdown",
   "metadata": {},
   "source": [
    "Read a single entry"
   ]
  },
  {
   "cell_type": "code",
   "execution_count": 4,
   "metadata": {
    "collapsed": false
   },
   "outputs": [
    {
     "name": "stderr",
     "output_type": "stream",
     "text": [
      "\r",
      "[Stage 0:>                                                          (0 + 1) / 1]\r"
     ]
    },
    {
     "data": {
      "text/plain": [
       "0.999959841549239"
      ]
     },
     "execution_count": 4,
     "metadata": {},
     "output_type": "execute_result"
    }
   ],
   "source": [
    "bm[1, 1]"
   ]
  },
  {
   "cell_type": "markdown",
   "metadata": {},
   "source": [
    "Read a block"
   ]
  },
  {
   "cell_type": "code",
   "execution_count": 5,
   "metadata": {
    "collapsed": false
   },
   "outputs": [
    {
     "name": "stdout",
     "output_type": "stream",
     "text": [
      "  3.477589 seconds (236.08 k allocations: 20.293 MiB, 9.16% compilation time)\n"
     ]
    },
    {
     "name": "stderr",
     "output_type": "stream",
     "text": [
      "\r",
      "[Stage 1:>                                                          (0 + 1) / 1]\r"
     ]
    },
    {
     "data": {
      "text/plain": [
       "1000×1000 Matrix{Float64}:\n",
       " 0.99996  0.00098559  -0.000830543  …   0.00427643    0.000288337\n",
       " 0.0      0.999942    -0.00104453      -0.000365344  -0.0014734\n",
       " 0.0      0.0          0.999963        -0.000545369  -0.00101798\n",
       " 0.0      0.0          0.0             -0.00052585   -0.00124045\n",
       " 0.0      0.0          0.0              0.00195088    7.25693e-5\n",
       " 0.0      0.0          0.0          …  -0.000118419  -0.000835871\n",
       " 0.0      0.0          0.0             -9.25639e-5    0.00120466\n",
       " 0.0      0.0          0.0             -0.000214606   0.000833805\n",
       " 0.0      0.0          0.0             -0.000274162  -0.000390875\n",
       " 0.0      0.0          0.0             -0.000110892   0.00294388\n",
       " 0.0      0.0          0.0          …  -0.000373815  -0.000942022\n",
       " 0.0      0.0          0.0             -0.000288357  -0.00193506\n",
       " 0.0      0.0          0.0             -0.000162489  -0.00150939\n",
       " ⋮                                  ⋱                \n",
       " 0.0      0.0          0.0             -0.000357731  -0.00113869\n",
       " 0.0      0.0          0.0             -0.0617835     0.00347235\n",
       " 0.0      0.0          0.0          …  -0.0618753     0.00364463\n",
       " 0.0      0.0          0.0             -0.000138544  -0.000701156\n",
       " 0.0      0.0          0.0             -0.00669601    0.0399311\n",
       " 0.0      0.0          0.0             -0.00604767   -0.0384345\n",
       " 0.0      0.0          0.0              0.00273254   -0.00250507\n",
       " 0.0      0.0          0.0          …  -0.000348874  -0.00103216\n",
       " 0.0      0.0          0.0             -0.000265189  -0.000487517\n",
       " 0.0      0.0          0.0             -0.00112066   -0.00463704\n",
       " 0.0      0.0          0.0              0.999957     -0.000885243\n",
       " 0.0      0.0          0.0              0.0           0.999956"
      ]
     },
     "execution_count": 5,
     "metadata": {},
     "output_type": "execute_result"
    }
   ],
   "source": [
    "@time bm[1:1000, 1:1000]"
   ]
  },
  {
   "cell_type": "code",
   "execution_count": 6,
   "metadata": {
    "collapsed": false
   },
   "outputs": [
    {
     "name": "stdout",
     "output_type": "stream",
     "text": [
      "203.064163 seconds (111.13 k allocations: 5.909 MiB, 0.05% compilation time)\n"
     ]
    },
    {
     "name": "stderr",
     "output_type": "stream",
     "text": [
      "\r",
      "[Stage 2:>                                                          (0 + 1) / 1]\r",
      "\r",
      "[Stage 4:>                                                          (0 + 1) / 1]\r",
      "\r",
      "[Stage 12:>                                                         (0 + 1) / 1]\r",
      "\r",
      "[Stage 15:>                                                         (0 + 0) / 1]\r",
      "\r",
      "[Stage 15:>                                                         (0 + 1) / 1]\r",
      "\r",
      "[Stage 18:>                                                         (0 + 1) / 1]\r",
      "\r",
      "[Stage 19:>                                                         (0 + 1) / 1]\r",
      "\r",
      "[Stage 22:>                                                         (0 + 1) / 1]\r",
      "\r",
      "[Stage 23:>                                                         (0 + 1) / 1]\r",
      "\r",
      "[Stage 24:>                                                         (0 + 1) / 1]\r",
      "\r",
      "[Stage 34:>                                                         (0 + 1) / 1]\r",
      "\r",
      "[Stage 35:>                                                         (0 + 1) / 1]\r",
      "\r",
      "[Stage 39:>                                                         (0 + 1) / 1]\r",
      "\r",
      "[Stage 40:>                                                         (0 + 1) / 1]\r",
      "\r",
      "[Stage 43:>                                                         (0 + 1) / 1]\r",
      "\r",
      "[Stage 44:>                                                         (0 + 1) / 1]\r",
      "\r",
      "[Stage 45:>                                                         (0 + 1) / 1]\r",
      "\r",
      "[Stage 46:>                                                         (0 + 1) / 1]\r",
      "\r",
      "[Stage 48:>                                                         (0 + 1) / 1]\r",
      "\r",
      "[Stage 50:>                                                         (0 + 1) / 1]\r",
      "\r",
      "[Stage 51:>                                                         (0 + 1) / 1]\r",
      "\r",
      "[Stage 52:>                                                         (0 + 1) / 1]\r",
      "\r",
      "[Stage 62:>                                                         (0 + 1) / 1]\r",
      "\r",
      "[Stage 64:>                                                         (0 + 1) / 1]\r",
      "\r",
      "[Stage 67:>                                                         (0 + 1) / 1]\r",
      "\r",
      "[Stage 70:>                                                         (0 + 1) / 1]\r",
      "\r",
      "[Stage 75:>                                                         (0 + 1) / 1]\r",
      "\r",
      "[Stage 80:>                                                         (0 + 1) / 1]\r",
      "\r",
      "[Stage 82:>                                                         (0 + 1) / 1]\r",
      "\r",
      "[Stage 83:>                                                         (0 + 1) / 1]\r",
      "\r",
      "[Stage 86:>                                                         (0 + 1) / 1]\r",
      "\r",
      "[Stage 89:>                                                         (0 + 1) / 1]\r",
      "\r",
      "[Stage 102:>                                                        (0 + 1) / 1]\r",
      "\r",
      "[Stage 105:>                                                        (0 + 1) / 1]\r",
      "\r",
      "[Stage 109:>                                                        (0 + 1) / 1]\r",
      "\r",
      "[Stage 110:>                                                        (0 + 1) / 1]\r",
      "\r",
      "[Stage 113:>                                                        (0 + 1) / 1]\r",
      "\r",
      "[Stage 114:=========================================================(1 + 0) / 1]\r",
      "\r",
      "[Stage 118:>                                                        (0 + 1) / 1]\r",
      "\r",
      "[Stage 120:>                                                        (0 + 1) / 1]\r",
      "\r",
      "[Stage 121:>                                                        (0 + 1) / 1]\r",
      "\r",
      "[Stage 122:>                                                        (0 + 1) / 1]\r",
      "\r",
      "[Stage 125:>                                                        (0 + 1) / 1]\r",
      "\r",
      "[Stage 127:>                                                        (0 + 1) / 1]\r",
      "\r",
      "[Stage 132:>                                                        (0 + 1) / 1]\r",
      "\r",
      "[Stage 137:>                                                        (0 + 1) / 1]\r",
      "\r",
      "[Stage 149:>                                                        (0 + 1) / 1]\r"
     ]
    },
    {
     "data": {
      "text/plain": [
       "3×50 Matrix{Float64}:\n",
       " 0.99996  -0.000830543  -0.000430697  …  -0.00995437   -0.0357603\n",
       " 0.0      -0.00104453   -0.00056507       0.00112276   -0.0473314\n",
       " 0.0       0.999963     -0.000921904     -0.000246667   0.0114384"
      ]
     },
     "execution_count": 6,
     "metadata": {},
     "output_type": "execute_result"
    }
   ],
   "source": [
    "# indexing non-contiguous region is slow\n",
    "@time bm[1:3, 1:2:100]"
   ]
  },
  {
   "cell_type": "markdown",
   "metadata": {
    "collapsed": true
   },
   "source": [
    "Read a specific chromosome region"
   ]
  },
  {
   "cell_type": "code",
   "execution_count": 19,
   "metadata": {
    "collapsed": false,
    "scrolled": false
   },
   "outputs": [
    {
     "name": "stderr",
     "output_type": "stream",
     "text": [
      "\r",
      "[Stage 159:>                                                        (0 + 1) / 1]\r"
     ]
    },
    {
     "data": {
      "text/plain": [
       "2444×2444 Matrix{Float64}:\n",
       "  1.0           0.000985639  -0.000830575  …   0.0035368     0.000118066\n",
       "  0.000985639   1.0          -0.00104458      -0.00103067   -0.000211577\n",
       " -0.000830575  -0.00104458    1.0             -0.000600475  -0.000372567\n",
       "  0.000267975  -0.000939381  -0.00164298      -0.0016236    -0.000355651\n",
       " -0.000430709  -0.000565092  -0.000921929      0.434545     -0.00013721\n",
       "  0.000132583  -0.000209847  -0.000379693  …  -0.000393288  -8.09227e-5\n",
       " -0.000158197  -0.000502146  -0.000874355      0.000181129  -0.000174117\n",
       " -0.000458895  -0.000332682  -0.000551908     -0.000624959  -0.000114182\n",
       "  0.000221526  -0.000439541  -0.000786827      0.00212557   -0.000104047\n",
       "  0.000979952  -0.000934722  -0.00154426      -0.000307705   0.00264703\n",
       "  0.00305457   -0.000620115  -0.00107625   …  -0.00079625    0.010721\n",
       " -0.000427154  -0.000484291  -0.000863325      1.83475e-5   -0.000166744\n",
       " -0.000509855  -0.000409437  -0.000733328     -0.000173776  -0.000154475\n",
       "  ⋮                                        ⋱                \n",
       " -2.51047e-5   -0.000209873  -5.21029e-5      -0.00037571   -7.83444e-5\n",
       "  5.01197e-5   -0.000284486  -0.000464666      0.00057559    0.968747\n",
       "  0.000337504  -0.00026857   -0.000452613      0.0101064     0.876415\n",
       " -0.000416475  -0.00044357   -0.000653121  …   0.00231938    0.565094\n",
       " -0.000554593  -0.00100535   -0.00204121      -0.00112186   -0.000514316\n",
       " -0.000186275  -0.000985664  -0.00164165      -0.00192103   -0.000361085\n",
       "  0.000116266  -0.000211759  -0.000372864      0.000742993   0.999995\n",
       " -0.000200923  -0.000352199  -0.000567716      0.298529      0.00209492\n",
       "  0.000118017  -0.000211635  -0.000372638  …   0.000722448   0.999999\n",
       " -0.00115962    0.00102812   -0.00378244      -0.00534703    0.00088046\n",
       "  0.0035368    -0.00103067   -0.000600475      1.0           0.000716651\n",
       "  0.000118066  -0.000211577  -0.000372567      0.000716651   1.0"
      ]
     },
     "execution_count": 19,
     "metadata": {},
     "output_type": "execute_result"
    }
   ],
   "source": [
    "chr = 1 # string or Int\n",
    "start_pos = 11063\n",
    "end_pos = 1000000\n",
    "sigma, df = get_block(bm, chr, start_pos, end_pos, min_maf=0.0, enforce_psd=true);\n",
    "sigma"
   ]
  },
  {
   "cell_type": "code",
   "execution_count": 21,
   "metadata": {
    "collapsed": false
   },
   "outputs": [
    {
     "data": {
      "text/html": [
       "<div><div style = \"float: left;\"><span>2444×6 DataFrame</span></div><div style = \"float: right;\"><span style = \"font-style: italic;\">2419 rows omitted</span></div><div style = \"clear: both;\"></div></div><div class = \"data-frame\" style = \"overflow-x: scroll;\"><table class = \"data-frame\" style = \"margin-bottom: 6px;\"><thead><tr class = \"header\"><th class = \"rowNumber\" style = \"font-weight: bold; text-align: right;\">Row</th><th style = \"text-align: left;\">rsid</th><th style = \"text-align: left;\">AF</th><th style = \"text-align: left;\">chr</th><th style = \"text-align: left;\">pos</th><th style = \"text-align: left;\">ref</th><th style = \"text-align: left;\">alt</th></tr><tr class = \"subheader headerLastRow\"><th class = \"rowNumber\" style = \"font-weight: bold; text-align: right;\"></th><th title = \"String\" style = \"text-align: left;\">String</th><th title = \"Float64\" style = \"text-align: left;\">Float64</th><th title = \"InlineStrings.String3\" style = \"text-align: left;\">String3</th><th title = \"Int64\" style = \"text-align: left;\">Int64</th><th title = \"String\" style = \"text-align: left;\">String</th><th title = \"String\" style = \"text-align: left;\">String</th></tr></thead><tbody><tr><td class = \"rowNumber\" style = \"font-weight: bold; text-align: right;\">1</td><td style = \"text-align: left;\">rs561109771</td><td style = \"text-align: right;\">4.7982e-5</td><td style = \"text-align: left;\">1</td><td style = \"text-align: right;\">11063</td><td style = \"text-align: left;\">T</td><td style = \"text-align: left;\">G</td></tr><tr><td class = \"rowNumber\" style = \"font-weight: bold; text-align: right;\">2</td><td style = \"text-align: left;\">rs562993331</td><td style = \"text-align: right;\">0.00027798</td><td style = \"text-align: left;\">1</td><td style = \"text-align: right;\">13259</td><td style = \"text-align: left;\">G</td><td style = \"text-align: left;\">A</td></tr><tr><td class = \"rowNumber\" style = \"font-weight: bold; text-align: right;\">3</td><td style = \"text-align: left;\">rs578081284</td><td style = \"text-align: right;\">0.00083096</td><td style = \"text-align: left;\">1</td><td style = \"text-align: right;\">17641</td><td style = \"text-align: left;\">G</td><td style = \"text-align: left;\">A</td></tr><tr><td class = \"rowNumber\" style = \"font-weight: bold; text-align: right;\">4</td><td style = \"text-align: left;\">rs576081345</td><td style = \"text-align: right;\">0.00065859</td><td style = \"text-align: left;\">1</td><td style = \"text-align: right;\">57222</td><td style = \"text-align: left;\">T</td><td style = \"text-align: left;\">C</td></tr><tr><td class = \"rowNumber\" style = \"font-weight: bold; text-align: right;\">5</td><td style = \"text-align: left;\">rs570371753</td><td style = \"text-align: right;\">0.00024023</td><td style = \"text-align: left;\">1</td><td style = \"text-align: right;\">58396</td><td style = \"text-align: left;\">T</td><td style = \"text-align: left;\">C</td></tr><tr><td class = \"rowNumber\" style = \"font-weight: bold; text-align: right;\">6</td><td style = \"text-align: left;\">rs561430336</td><td style = \"text-align: right;\">2.7728e-5</td><td style = \"text-align: left;\">1</td><td style = \"text-align: right;\">63668</td><td style = \"text-align: left;\">G</td><td style = \"text-align: left;\">A</td></tr><tr><td class = \"rowNumber\" style = \"font-weight: bold; text-align: right;\">7</td><td style = \"text-align: left;\">rs2531267</td><td style = \"text-align: right;\">0.00018542</td><td style = \"text-align: left;\">1</td><td style = \"text-align: right;\">69569</td><td style = \"text-align: left;\">T</td><td style = \"text-align: left;\">C</td></tr><tr><td class = \"rowNumber\" style = \"font-weight: bold; text-align: right;\">8</td><td style = \"text-align: left;\">rs557418932</td><td style = \"text-align: right;\">8.1599e-5</td><td style = \"text-align: left;\">1</td><td style = \"text-align: right;\">79192</td><td style = \"text-align: left;\">T</td><td style = \"text-align: left;\">G</td></tr><tr><td class = \"rowNumber\" style = \"font-weight: bold; text-align: right;\">9</td><td style = \"text-align: left;\">rs554639997</td><td style = \"text-align: right;\">0.00015868</td><td style = \"text-align: left;\">1</td><td style = \"text-align: right;\">91588</td><td style = \"text-align: left;\">G</td><td style = \"text-align: left;\">A</td></tr><tr><td class = \"rowNumber\" style = \"font-weight: bold; text-align: right;\">10</td><td style = \"text-align: left;\">rs575442534</td><td style = \"text-align: right;\">0.00066441</td><td style = \"text-align: left;\">1</td><td style = \"text-align: right;\">533573</td><td style = \"text-align: left;\">G</td><td style = \"text-align: left;\">A</td></tr><tr><td class = \"rowNumber\" style = \"font-weight: bold; text-align: right;\">11</td><td style = \"text-align: left;\">rs568792105</td><td style = \"text-align: right;\">0.00045009</td><td style = \"text-align: left;\">1</td><td style = \"text-align: right;\">541944</td><td style = \"text-align: left;\">T</td><td style = \"text-align: left;\">C</td></tr><tr><td class = \"rowNumber\" style = \"font-weight: bold; text-align: right;\">12</td><td style = \"text-align: left;\">rs554292503</td><td style = \"text-align: right;\">0.00015376</td><td style = \"text-align: left;\">1</td><td style = \"text-align: right;\">542210</td><td style = \"text-align: left;\">C</td><td style = \"text-align: left;\">T</td></tr><tr><td class = \"rowNumber\" style = \"font-weight: bold; text-align: right;\">13</td><td style = \"text-align: left;\">rs547117545</td><td style = \"text-align: right;\">0.00013131</td><td style = \"text-align: left;\">1</td><td style = \"text-align: right;\">565148</td><td style = \"text-align: left;\">T</td><td style = \"text-align: left;\">C</td></tr><tr><td style = \"text-align: right;\">&vellip;</td><td style = \"text-align: right;\">&vellip;</td><td style = \"text-align: right;\">&vellip;</td><td style = \"text-align: right;\">&vellip;</td><td style = \"text-align: right;\">&vellip;</td><td style = \"text-align: right;\">&vellip;</td><td style = \"text-align: right;\">&vellip;</td></tr><tr><td class = \"rowNumber\" style = \"font-weight: bold; text-align: right;\">2433</td><td style = \"text-align: left;\">rs114115960</td><td style = \"text-align: right;\">4.6453e-5</td><td style = \"text-align: left;\">1</td><td style = \"text-align: right;\">999410</td><td style = \"text-align: left;\">C</td><td style = \"text-align: left;\">T</td></tr><tr><td class = \"rowNumber\" style = \"font-weight: bold; text-align: right;\">2434</td><td style = \"text-align: left;\">rs142645102</td><td style = \"text-align: right;\">5.0728e-5</td><td style = \"text-align: left;\">1</td><td style = \"text-align: right;\">999569</td><td style = \"text-align: left;\">G</td><td style = \"text-align: left;\">A</td></tr><tr><td class = \"rowNumber\" style = \"font-weight: bold; text-align: right;\">2435</td><td style = \"text-align: left;\">rs146036838</td><td style = \"text-align: right;\">5.1661e-5</td><td style = \"text-align: left;\">1</td><td style = \"text-align: right;\">999596</td><td style = \"text-align: left;\">G</td><td style = \"text-align: left;\">A</td></tr><tr><td class = \"rowNumber\" style = \"font-weight: bold; text-align: right;\">2436</td><td style = \"text-align: left;\">rs148655322</td><td style = \"text-align: right;\">0.00016357</td><td style = \"text-align: left;\">1</td><td style = \"text-align: right;\">999648</td><td style = \"text-align: left;\">C</td><td style = \"text-align: left;\">T</td></tr><tr><td class = \"rowNumber\" style = \"font-weight: bold; text-align: right;\">2437</td><td style = \"text-align: left;\">rs6683745</td><td style = \"text-align: right;\">0.0066921</td><td style = \"text-align: left;\">1</td><td style = \"text-align: right;\">999649</td><td style = \"text-align: left;\">G</td><td style = \"text-align: left;\">A</td></tr><tr><td class = \"rowNumber\" style = \"font-weight: bold; text-align: right;\">2438</td><td style = \"text-align: left;\">rs563887183</td><td style = \"text-align: right;\">0.00077946</td><td style = \"text-align: left;\">1</td><td style = \"text-align: right;\">999662</td><td style = \"text-align: left;\">G</td><td style = \"text-align: left;\">A</td></tr><tr><td class = \"rowNumber\" style = \"font-weight: bold; text-align: right;\">2439</td><td style = \"text-align: left;\">rs180824545</td><td style = \"text-align: right;\">3.7216e-5</td><td style = \"text-align: left;\">1</td><td style = \"text-align: right;\">999668</td><td style = \"text-align: left;\">A</td><td style = \"text-align: left;\">G</td></tr><tr><td class = \"rowNumber\" style = \"font-weight: bold; text-align: right;\">2440</td><td style = \"text-align: left;\">rs565260701</td><td style = \"text-align: right;\">8.531e-5</td><td style = \"text-align: left;\">1</td><td style = \"text-align: right;\">999729</td><td style = \"text-align: left;\">C</td><td style = \"text-align: left;\">T</td></tr><tr><td class = \"rowNumber\" style = \"font-weight: bold; text-align: right;\">2441</td><td style = \"text-align: left;\">rs150732520</td><td style = \"text-align: right;\">3.7198e-5</td><td style = \"text-align: left;\">1</td><td style = \"text-align: right;\">999867</td><td style = \"text-align: left;\">T</td><td style = \"text-align: left;\">C</td></tr><tr><td class = \"rowNumber\" style = \"font-weight: bold; text-align: right;\">2442</td><td style = \"text-align: left;\">rs139091112</td><td style = \"text-align: right;\">0.010041</td><td style = \"text-align: left;\">1</td><td style = \"text-align: right;\">999957</td><td style = \"text-align: left;\">G</td><td style = \"text-align: left;\">A</td></tr><tr><td class = \"rowNumber\" style = \"font-weight: bold; text-align: right;\">2443</td><td style = \"text-align: left;\">rs112150631</td><td style = \"text-align: right;\">0.0010616</td><td style = \"text-align: left;\">1</td><td style = \"text-align: right;\">999998</td><td style = \"text-align: left;\">C</td><td style = \"text-align: left;\">T</td></tr><tr><td class = \"rowNumber\" style = \"font-weight: bold; text-align: right;\">2444</td><td style = \"text-align: left;\">rs189331984</td><td style = \"text-align: right;\">3.7193e-5</td><td style = \"text-align: left;\">1</td><td style = \"text-align: right;\">999999</td><td style = \"text-align: left;\">G</td><td style = \"text-align: left;\">A</td></tr></tbody></table></div>"
      ],
      "text/latex": [
       "\\begin{tabular}{r|cccccc}\n",
       "\t& rsid & AF & chr & pos & ref & alt\\\\\n",
       "\t\\hline\n",
       "\t& String & Float64 & String3 & Int64 & String & String\\\\\n",
       "\t\\hline\n",
       "\t1 & rs561109771 & 4.7982e-5 & 1 & 11063 & T & G \\\\\n",
       "\t2 & rs562993331 & 0.00027798 & 1 & 13259 & G & A \\\\\n",
       "\t3 & rs578081284 & 0.00083096 & 1 & 17641 & G & A \\\\\n",
       "\t4 & rs576081345 & 0.00065859 & 1 & 57222 & T & C \\\\\n",
       "\t5 & rs570371753 & 0.00024023 & 1 & 58396 & T & C \\\\\n",
       "\t6 & rs561430336 & 2.7728e-5 & 1 & 63668 & G & A \\\\\n",
       "\t7 & rs2531267 & 0.00018542 & 1 & 69569 & T & C \\\\\n",
       "\t8 & rs557418932 & 8.1599e-5 & 1 & 79192 & T & G \\\\\n",
       "\t9 & rs554639997 & 0.00015868 & 1 & 91588 & G & A \\\\\n",
       "\t10 & rs575442534 & 0.00066441 & 1 & 533573 & G & A \\\\\n",
       "\t11 & rs568792105 & 0.00045009 & 1 & 541944 & T & C \\\\\n",
       "\t12 & rs554292503 & 0.00015376 & 1 & 542210 & C & T \\\\\n",
       "\t13 & rs547117545 & 0.00013131 & 1 & 565148 & T & C \\\\\n",
       "\t14 & rs539230054 & 0.00015315 & 1 & 565169 & T & C \\\\\n",
       "\t15 & rs529231313 & 0.00013573 & 1 & 566012 & C & A \\\\\n",
       "\t16 & rs532537403 & 0.00051131 & 1 & 570578 & T & G \\\\\n",
       "\t17 & 1:601158\\_GAGTA\\_G & 0.00087699 & 1 & 601158 & GAGTA & G \\\\\n",
       "\t18 & rs539729304 & 2.7728e-5 & 1 & 610420 & G & A \\\\\n",
       "\t19 & rs544810763 & 1.9625e-5 & 1 & 615095 & G & GT \\\\\n",
       "\t20 & rs559879757 & 0.00010481 & 1 & 668332 & T & C \\\\\n",
       "\t21 & rs538740799 & 2.4571e-5 & 1 & 672798 & G & A \\\\\n",
       "\t22 & rs548729314 & 5.8962e-5 & 1 & 691545 & A & T \\\\\n",
       "\t23 & 1:692794\\_CA\\_C & 0.11074 & 1 & 692794 & CA & C \\\\\n",
       "\t24 & rs12238997 & 0.11581 & 1 & 693731 & A & G \\\\\n",
       "\t25 & rs529439608 & 0.00011205 & 1 & 706425 & C & T \\\\\n",
       "\t26 & rs533042087 & 2.7005e-5 & 1 & 706992 & C & T \\\\\n",
       "\t27 & rs141817527 & 2.5206e-5 & 1 & 707014 & A & C \\\\\n",
       "\t28 & rs371890604 & 0.097076 & 1 & 707522 & G & C \\\\\n",
       "\t29 & rs555211605 & 6.6324e-5 & 1 & 713698 & C & T \\\\\n",
       "\t30 & rs117217250 & 0.00017609 & 1 & 713979 & C & G \\\\\n",
       "\t$\\dots$ & $\\dots$ & $\\dots$ & $\\dots$ & $\\dots$ & $\\dots$ & $\\dots$ \\\\\n",
       "\\end{tabular}\n"
      ],
      "text/plain": [
       "\u001b[1m2444×6 DataFrame\u001b[0m\n",
       "\u001b[1m  Row \u001b[0m│\u001b[1m rsid        \u001b[0m\u001b[1m AF         \u001b[0m\u001b[1m chr     \u001b[0m\u001b[1m pos    \u001b[0m\u001b[1m ref    \u001b[0m\u001b[1m alt    \u001b[0m\n",
       "      │\u001b[90m String      \u001b[0m\u001b[90m Float64    \u001b[0m\u001b[90m String3 \u001b[0m\u001b[90m Int64  \u001b[0m\u001b[90m String \u001b[0m\u001b[90m String \u001b[0m\n",
       "──────┼──────────────────────────────────────────────────────────\n",
       "    1 │ rs561109771  4.7982e-5   1         11063  T       G\n",
       "    2 │ rs562993331  0.00027798  1         13259  G       A\n",
       "    3 │ rs578081284  0.00083096  1         17641  G       A\n",
       "    4 │ rs576081345  0.00065859  1         57222  T       C\n",
       "    5 │ rs570371753  0.00024023  1         58396  T       C\n",
       "    6 │ rs561430336  2.7728e-5   1         63668  G       A\n",
       "    7 │ rs2531267    0.00018542  1         69569  T       C\n",
       "    8 │ rs557418932  8.1599e-5   1         79192  T       G\n",
       "    9 │ rs554639997  0.00015868  1         91588  G       A\n",
       "   10 │ rs575442534  0.00066441  1        533573  G       A\n",
       "   11 │ rs568792105  0.00045009  1        541944  T       C\n",
       "  ⋮   │      ⋮           ⋮          ⋮       ⋮       ⋮       ⋮\n",
       " 2435 │ rs146036838  5.1661e-5   1        999596  G       A\n",
       " 2436 │ rs148655322  0.00016357  1        999648  C       T\n",
       " 2437 │ rs6683745    0.0066921   1        999649  G       A\n",
       " 2438 │ rs563887183  0.00077946  1        999662  G       A\n",
       " 2439 │ rs180824545  3.7216e-5   1        999668  A       G\n",
       " 2440 │ rs565260701  8.531e-5    1        999729  C       T\n",
       " 2441 │ rs150732520  3.7198e-5   1        999867  T       C\n",
       " 2442 │ rs139091112  0.010041    1        999957  G       A\n",
       " 2443 │ rs112150631  0.0010616   1        999998  C       T\n",
       " 2444 │ rs189331984  3.7193e-5   1        999999  G       A\n",
       "\u001b[36m                                                2423 rows omitted\u001b[0m"
      ]
     },
     "execution_count": 21,
     "metadata": {},
     "output_type": "execute_result"
    }
   ],
   "source": [
    "df"
   ]
  },
  {
   "cell_type": "markdown",
   "metadata": {
    "collapsed": true
   },
   "source": [
    "## Testing"
   ]
  },
  {
   "cell_type": "code",
   "execution_count": 44,
   "metadata": {
    "collapsed": false
   },
   "outputs": [
    {
     "name": "stdout",
     "output_type": "stream",
     "text": [
      "  0.827913 seconds (33.87 k allocations: 1.972 MiB, 1.93% compilation time)\n"
     ]
    },
    {
     "data": {
      "text/plain": [
       "100×100 Matrix{Float64}:\n",
       " 1.0  0.0326361  -0.0181891   0.0166341   …   0.0172358    -0.00857776\n",
       " 0.0  1.0        -0.00041394  0.00540477     -0.0188801     0.05925\n",
       " 0.0  0.0         1.0         0.0177243      -0.0277042    -0.000268512\n",
       " 0.0  0.0         0.0         1.0            -0.000468342  -0.000966708\n",
       " 0.0  0.0         0.0         0.0            -7.47553e-5   -0.00298802\n",
       " 0.0  0.0         0.0         0.0         …   0.00207735    0.00152017\n",
       " 0.0  0.0         0.0         0.0             0.00256425    0.00136302\n",
       " 0.0  0.0         0.0         0.0             0.0137416    -0.000680087\n",
       " 0.0  0.0         0.0         0.0            -0.020671      0.000342287\n",
       " 0.0  0.0         0.0         0.0             0.00195264   -0.00451867\n",
       " 0.0  0.0         0.0         0.0         …   0.0018285    -0.00406988\n",
       " 0.0  0.0         0.0         0.0             0.0152337     0.0100539\n",
       " 0.0  0.0         0.0         0.0             0.0193       -0.0136828\n",
       " ⋮                                        ⋱                \n",
       " 0.0  0.0         0.0         0.0            -0.0164688    -0.014087\n",
       " 0.0  0.0         0.0         0.0             0.00237332   -0.0076453\n",
       " 0.0  0.0         0.0         0.0         …   0.0307489     0.00414244\n",
       " 0.0  0.0         0.0         0.0            -0.0163064    -0.006019\n",
       " 0.0  0.0         0.0         0.0            -0.0133323    -0.0457871\n",
       " 0.0  0.0         0.0         0.0            -0.00121495   -0.0130313\n",
       " 0.0  0.0         0.0         0.0            -0.0107884    -0.0132339\n",
       " 0.0  0.0         0.0         0.0         …   0.0466568     0.00123582\n",
       " 0.0  0.0         0.0         0.0             0.065021      0.00380187\n",
       " 0.0  0.0         0.0         0.0             0.086153     -0.0106022\n",
       " 0.0  0.0         0.0         0.0             1.0          -0.00980493\n",
       " 0.0  0.0         0.0         0.0             0.0           1.0"
      ]
     },
     "execution_count": 44,
     "metadata": {},
     "output_type": "execute_result"
    }
   ],
   "source": [
    "using PyCall\n",
    "py\"\"\"\n",
    "from hail.linalg import BlockMatrix\n",
    "import numpy as np\n",
    "def convert(bm, range_start, range_end):\n",
    "    return bm[range_start:range_end, range_start:range_end].to_numpy()\n",
    "\"\"\"\n",
    "@time py\"convert\"(bm.bm, 0, 100)"
   ]
  },
  {
   "cell_type": "markdown",
   "metadata": {},
   "source": [
    "### Python code"
   ]
  },
  {
   "cell_type": "code",
   "execution_count": null,
   "metadata": {
    "collapsed": true
   },
   "outputs": [],
   "source": [
    "from hail.linalg import BlockMatrix\n",
    "# import numpy as np\n",
    "bm_files = \"UKBB.EUR.ldadj.bm\"\n",
    "bm = BlockMatrix.read(bm_files)\n",
    "\n",
    "# get a slice fast\n",
    "x = bm[0:10000, 0:10000]\n",
    "X = x.to_numpy()\n",
    "X"
   ]
  },
  {
   "cell_type": "code",
   "execution_count": null,
   "metadata": {
    "collapsed": true
   },
   "outputs": [],
   "source": [
    "def convert(bm, range1, range2)\n",
    "    return bm[range1, range2].to_numpy()"
   ]
  },
  {
   "cell_type": "code",
   "execution_count": null,
   "metadata": {
    "collapsed": true
   },
   "outputs": [],
   "source": []
  },
  {
   "cell_type": "code",
   "execution_count": null,
   "metadata": {
    "collapsed": true
   },
   "outputs": [],
   "source": []
  }
 ],
 "metadata": {
  "@webio": {
   "lastCommId": null,
   "lastKernelId": null
  },
  "kernelspec": {
   "display_name": "Julia 1.7.3",
   "language": "julia",
   "name": "julia-1.7"
  },
  "language_info": {
   "file_extension": ".jl",
   "mimetype": "application/julia",
   "name": "julia",
   "version": "1.7.3"
  }
 },
 "nbformat": 4,
 "nbformat_minor": 2
}
