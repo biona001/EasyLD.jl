{
 "cells": [
  {
   "cell_type": "markdown",
   "metadata": {},
   "source": [
    "# Try reading gnomAD/PanUKBB data into memory"
   ]
  },
  {
   "cell_type": "code",
   "execution_count": 2,
   "metadata": {
    "collapsed": false
   },
   "outputs": [
    {
     "name": "stderr",
     "output_type": "stream",
     "text": [
      "┌ Info: Precompiling EasyLD [a5d00db5-5f0a-49b9-aaff-6f4121a13ee1]\n",
      "└ @ Base loading.jl:1423\n"
     ]
    }
   ],
   "source": [
    "using Revise\n",
    "using EasyLD"
   ]
  },
  {
   "cell_type": "code",
   "execution_count": 3,
   "metadata": {
    "collapsed": false
   },
   "outputs": [],
   "source": [
    "datadir = \"/Users/biona001/.julia/dev/EasyLD/data\"\n",
    "bm_file = joinpath(datadir, \"UKBB.EUR.ldadj.bm\")\n",
    "ht_file = joinpath(datadir, \"UKBB.EUR.ldadj.variant.ht\")\n",
    "bm = hail_block_matrix(bm_file, ht_file);"
   ]
  },
  {
   "cell_type": "markdown",
   "metadata": {},
   "source": [
    "Size of matrix"
   ]
  },
  {
   "cell_type": "code",
   "execution_count": 4,
   "metadata": {
    "collapsed": false
   },
   "outputs": [
    {
     "name": "stdout",
     "output_type": "stream",
     "text": [
      "2023-03-14 11:39:53.534 WARN  Utils:69 - Your hostname, Benjamins-MacBook-Pro-2.local resolves to a loopback address: 127.0.0.1; using 10.0.0.86 instead (on interface en0)\n",
      "2023-03-14 11:39:53.538 WARN  Utils:69 - Set SPARK_LOCAL_IP if you need to bind to another address\n",
      "2023-03-14 11:39:54.131 WARN  NativeCodeLoader:60 - Unable to load native-hadoop library for your platform... using builtin-java classes where applicable\n"
     ]
    },
    {
     "name": "stderr",
     "output_type": "stream",
     "text": [
      "Initializing Hail with default parameters...\n",
      "Picked up _JAVA_OPTIONS: -Xmx16g\n",
      "Picked up _JAVA_OPTIONS: -Xmx16g\n",
      "Setting default log level to \"WARN\".\n",
      "To adjust logging level use sc.setLogLevel(newLevel). For SparkR, use setLogLevel(newLevel).\n",
      "Running on Apache Spark version 3.1.3\n",
      "SparkUI available at http://10.0.0.86:4040\n",
      "Welcome to\n",
      "     __  __     <>__\n",
      "    / /_/ /__  __/ /\n",
      "   / __  / _ `/ / /\n",
      "  /_/ /_/\\_,_/_/_/   version 0.2.109-b71b065e4bb6\n",
      "LOGGING: writing to /Users/biona001/.julia/dev/EasyLD/test/hail-20230314-1139-0.2.109-b71b065e4bb6.log\n"
     ]
    },
    {
     "data": {
      "text/plain": [
       "(23960350, 23960350)"
      ]
     },
     "execution_count": 4,
     "metadata": {},
     "output_type": "execute_result"
    }
   ],
   "source": [
    "size(bm)"
   ]
  },
  {
   "cell_type": "markdown",
   "metadata": {},
   "source": [
    "Read a single entry"
   ]
  },
  {
   "cell_type": "code",
   "execution_count": 5,
   "metadata": {
    "collapsed": false
   },
   "outputs": [
    {
     "name": "stderr",
     "output_type": "stream",
     "text": [
      "\r",
      "[Stage 0:>                                                          (0 + 1) / 1]\r"
     ]
    },
    {
     "data": {
      "text/plain": [
       "0.999959841549239"
      ]
     },
     "execution_count": 5,
     "metadata": {},
     "output_type": "execute_result"
    }
   ],
   "source": [
    "bm[1, 1]"
   ]
  },
  {
   "cell_type": "markdown",
   "metadata": {},
   "source": [
    "Read a block"
   ]
  },
  {
   "cell_type": "code",
   "execution_count": 6,
   "metadata": {
    "collapsed": false
   },
   "outputs": [
    {
     "name": "stdout",
     "output_type": "stream",
     "text": [
      "  2.739247 seconds (236.01 k allocations: 20.288 MiB, 3.86% compilation time)\n"
     ]
    },
    {
     "name": "stderr",
     "output_type": "stream",
     "text": [
      "\r",
      "[Stage 1:>                                                          (0 + 1) / 1]\r"
     ]
    },
    {
     "data": {
      "text/plain": [
       "1000×1000 Matrix{Float64}:\n",
       " 0.99996  0.00098559  -0.000830543  …   0.00427643    0.000288337\n",
       " 0.0      0.999942    -0.00104453      -0.000365344  -0.0014734\n",
       " 0.0      0.0          0.999963        -0.000545369  -0.00101798\n",
       " 0.0      0.0          0.0             -0.00052585   -0.00124045\n",
       " 0.0      0.0          0.0              0.00195088    7.25693e-5\n",
       " 0.0      0.0          0.0          …  -0.000118419  -0.000835871\n",
       " 0.0      0.0          0.0             -9.25639e-5    0.00120466\n",
       " 0.0      0.0          0.0             -0.000214606   0.000833805\n",
       " 0.0      0.0          0.0             -0.000274162  -0.000390875\n",
       " 0.0      0.0          0.0             -0.000110892   0.00294388\n",
       " 0.0      0.0          0.0          …  -0.000373815  -0.000942022\n",
       " 0.0      0.0          0.0             -0.000288357  -0.00193506\n",
       " 0.0      0.0          0.0             -0.000162489  -0.00150939\n",
       " ⋮                                  ⋱                \n",
       " 0.0      0.0          0.0             -0.000357731  -0.00113869\n",
       " 0.0      0.0          0.0             -0.0617835     0.00347235\n",
       " 0.0      0.0          0.0          …  -0.0618753     0.00364463\n",
       " 0.0      0.0          0.0             -0.000138544  -0.000701156\n",
       " 0.0      0.0          0.0             -0.00669601    0.0399311\n",
       " 0.0      0.0          0.0             -0.00604767   -0.0384345\n",
       " 0.0      0.0          0.0              0.00273254   -0.00250507\n",
       " 0.0      0.0          0.0          …  -0.000348874  -0.00103216\n",
       " 0.0      0.0          0.0             -0.000265189  -0.000487517\n",
       " 0.0      0.0          0.0             -0.00112066   -0.00463704\n",
       " 0.0      0.0          0.0              0.999957     -0.000885243\n",
       " 0.0      0.0          0.0              0.0           0.999956"
      ]
     },
     "execution_count": 6,
     "metadata": {},
     "output_type": "execute_result"
    }
   ],
   "source": [
    "@time bm[1:1000, 1:1000]"
   ]
  },
  {
   "cell_type": "code",
   "execution_count": 19,
   "metadata": {
    "collapsed": false
   },
   "outputs": [
    {
     "name": "stdout",
     "output_type": "stream",
     "text": [
      " 22.868453 seconds (61.51 k allocations: 3.108 MiB, 0.31% compilation time)\n"
     ]
    },
    {
     "data": {
      "text/plain": [
       "3×50 Matrix{Float64}:\n",
       " 1.0  -0.0181891   0.00802797  -0.0421512  …  0.0143534     0.0172358\n",
       " 0.0  -0.00041394  0.00232164  -0.0112066     5.39059e-5   -0.0188801\n",
       " 0.0   1.0         0.0         -0.0282011     0.000733417  -0.0277042"
      ]
     },
     "execution_count": 19,
     "metadata": {},
     "output_type": "execute_result"
    }
   ],
   "source": [
    "# indexing non-contiguous region is slow\n",
    "@time bm[1:3, 1:2:100]"
   ]
  },
  {
   "cell_type": "markdown",
   "metadata": {
    "collapsed": true
   },
   "source": [
    "Read a specific chromosome region"
   ]
  },
  {
   "cell_type": "code",
   "execution_count": 24,
   "metadata": {
    "collapsed": false,
    "scrolled": false
   },
   "outputs": [
    {
     "data": {
      "text/plain": [
       "9×9 Matrix{Float64}:\n",
       " 0.99996  0.00098559  -0.000830543  …  -0.00045888    0.000221516\n",
       " 0.0      0.999942    -0.00104453      -0.000332668  -0.000439517\n",
       " 0.0      0.0          0.999963        -0.000551892  -0.000786793\n",
       " 0.0      0.0          0.0             -0.000503539  -0.000712834\n",
       " 0.0      0.0          0.0             -0.000294435   0.00575015\n",
       " 0.0      0.0          0.0          …  -0.000112519  -0.00015419\n",
       " 0.0      0.0          0.0             -0.000264108   0.00413586\n",
       " 0.0      0.0          0.0              0.999978     -0.000225057\n",
       " 0.0      0.0          0.0              0.0           0.99995"
      ]
     },
     "execution_count": 24,
     "metadata": {},
     "output_type": "execute_result"
    }
   ],
   "source": [
    "chr = 1 # string or Int\n",
    "start_pos = 11063\n",
    "end_pos = 91588\n",
    "sigma = get_block(bm, chr, start_pos, end_pos)"
   ]
  },
  {
   "cell_type": "code",
   "execution_count": null,
   "metadata": {
    "collapsed": true
   },
   "outputs": [],
   "source": []
  },
  {
   "cell_type": "code",
   "execution_count": null,
   "metadata": {
    "collapsed": true
   },
   "outputs": [],
   "source": []
  },
  {
   "cell_type": "code",
   "execution_count": null,
   "metadata": {
    "collapsed": true
   },
   "outputs": [],
   "source": []
  },
  {
   "cell_type": "code",
   "execution_count": null,
   "metadata": {
    "collapsed": true
   },
   "outputs": [],
   "source": []
  },
  {
   "cell_type": "markdown",
   "metadata": {
    "collapsed": true
   },
   "source": [
    "## Testing"
   ]
  },
  {
   "cell_type": "code",
   "execution_count": 44,
   "metadata": {
    "collapsed": false
   },
   "outputs": [
    {
     "name": "stdout",
     "output_type": "stream",
     "text": [
      "  0.827913 seconds (33.87 k allocations: 1.972 MiB, 1.93% compilation time)\n"
     ]
    },
    {
     "data": {
      "text/plain": [
       "100×100 Matrix{Float64}:\n",
       " 1.0  0.0326361  -0.0181891   0.0166341   …   0.0172358    -0.00857776\n",
       " 0.0  1.0        -0.00041394  0.00540477     -0.0188801     0.05925\n",
       " 0.0  0.0         1.0         0.0177243      -0.0277042    -0.000268512\n",
       " 0.0  0.0         0.0         1.0            -0.000468342  -0.000966708\n",
       " 0.0  0.0         0.0         0.0            -7.47553e-5   -0.00298802\n",
       " 0.0  0.0         0.0         0.0         …   0.00207735    0.00152017\n",
       " 0.0  0.0         0.0         0.0             0.00256425    0.00136302\n",
       " 0.0  0.0         0.0         0.0             0.0137416    -0.000680087\n",
       " 0.0  0.0         0.0         0.0            -0.020671      0.000342287\n",
       " 0.0  0.0         0.0         0.0             0.00195264   -0.00451867\n",
       " 0.0  0.0         0.0         0.0         …   0.0018285    -0.00406988\n",
       " 0.0  0.0         0.0         0.0             0.0152337     0.0100539\n",
       " 0.0  0.0         0.0         0.0             0.0193       -0.0136828\n",
       " ⋮                                        ⋱                \n",
       " 0.0  0.0         0.0         0.0            -0.0164688    -0.014087\n",
       " 0.0  0.0         0.0         0.0             0.00237332   -0.0076453\n",
       " 0.0  0.0         0.0         0.0         …   0.0307489     0.00414244\n",
       " 0.0  0.0         0.0         0.0            -0.0163064    -0.006019\n",
       " 0.0  0.0         0.0         0.0            -0.0133323    -0.0457871\n",
       " 0.0  0.0         0.0         0.0            -0.00121495   -0.0130313\n",
       " 0.0  0.0         0.0         0.0            -0.0107884    -0.0132339\n",
       " 0.0  0.0         0.0         0.0         …   0.0466568     0.00123582\n",
       " 0.0  0.0         0.0         0.0             0.065021      0.00380187\n",
       " 0.0  0.0         0.0         0.0             0.086153     -0.0106022\n",
       " 0.0  0.0         0.0         0.0             1.0          -0.00980493\n",
       " 0.0  0.0         0.0         0.0             0.0           1.0"
      ]
     },
     "execution_count": 44,
     "metadata": {},
     "output_type": "execute_result"
    }
   ],
   "source": [
    "using PyCall\n",
    "py\"\"\"\n",
    "from hail.linalg import BlockMatrix\n",
    "import numpy as np\n",
    "def convert(bm, range_start, range_end):\n",
    "    return bm[range_start:range_end, range_start:range_end].to_numpy()\n",
    "\"\"\"\n",
    "@time py\"convert\"(bm.bm, 0, 100)"
   ]
  },
  {
   "cell_type": "markdown",
   "metadata": {},
   "source": [
    "### Python code"
   ]
  },
  {
   "cell_type": "code",
   "execution_count": null,
   "metadata": {
    "collapsed": true
   },
   "outputs": [],
   "source": [
    "from hail.linalg import BlockMatrix\n",
    "# import numpy as np\n",
    "bm_files = \"UKBB.EUR.ldadj.bm\"\n",
    "bm = BlockMatrix.read(bm_files)\n",
    "\n",
    "# get a slice fast\n",
    "x = bm[0:10000, 0:10000]\n",
    "X = x.to_numpy()\n",
    "X"
   ]
  },
  {
   "cell_type": "code",
   "execution_count": null,
   "metadata": {
    "collapsed": true
   },
   "outputs": [],
   "source": [
    "def convert(bm, range1, range2)\n",
    "    return bm[range1, range2].to_numpy()"
   ]
  },
  {
   "cell_type": "code",
   "execution_count": null,
   "metadata": {
    "collapsed": true
   },
   "outputs": [],
   "source": []
  },
  {
   "cell_type": "code",
   "execution_count": null,
   "metadata": {
    "collapsed": true
   },
   "outputs": [],
   "source": []
  }
 ],
 "metadata": {
  "@webio": {
   "lastCommId": null,
   "lastKernelId": null
  },
  "kernelspec": {
   "display_name": "Julia 1.7.3",
   "language": "julia",
   "name": "julia-1.7"
  },
  "language_info": {
   "file_extension": ".jl",
   "mimetype": "application/julia",
   "name": "julia",
   "version": "1.7.3"
  }
 },
 "nbformat": 4,
 "nbformat_minor": 2
}
